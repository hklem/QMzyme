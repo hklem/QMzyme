{
 "cells": [
  {
   "cell_type": "markdown",
   "id": "9e8d0127-5375-4d76-9475-c3dcfbbc7eaa",
   "metadata": {},
   "source": [
    "# QMzyme Serialization\n",
    "\n",
    "In this example we follow the same steps from the [QMQM2 Calculation](https://qmzyme.readthedocs.io/en/latest/Examples/QMQM2%20Calculation.html) example, up until it is time to assign the calculation method. Let's pretend we got to that point and needed to read some literature to decide what level of theory we should use. So we will serialize the QMzymeModel object using the Python library [pickle](https://docs.python.org/3/library/pickle.html) by calling the method store_pickle, take a (hypothetical) break to read the literature, then reload the pickle file to continue."
   ]
  },
  {
   "cell_type": "markdown",
   "id": "eb17ecaf-3b15-401d-b4e8-75a919f8dc9c",
   "metadata": {},
   "source": [
    "#### Define the QM and QM2 regions"
   ]
  },
  {
   "cell_type": "code",
   "execution_count": 1,
   "id": "501af7b9-3600-46c0-ab42-d3dfd04177a7",
   "metadata": {},
   "outputs": [
    {
     "name": "stderr",
     "output_type": "stream",
     "text": [
      "/Users/hrk/anaconda3/envs/qmzyme/lib/python3.11/site-packages/MDAnalysis/topology/tpr/utils.py:51: DeprecationWarning: 'xdrlib' is deprecated and slated for removal in Python 3.13\n",
      "  import xdrlib\n"
     ]
    },
    {
     "name": "stdout",
     "output_type": "stream",
     "text": [
      "\n",
      "Charge information not present. QMzyme will try to guess region charges based on residue names consistent with AMBER naming conventions (i.e., aspartate: ASP --> Charge: -1, aspartic acid: ASH --> Charge: 0.). See QMzyme.data.residue_charges for the full set.\n"
     ]
    }
   ],
   "source": [
    "import QMzyme\n",
    "from QMzyme.SelectionSchemes import DistanceCutoff\n",
    "from QMzyme.data import PDB\n",
    "\n",
    "QMzyme.data.residue_charges.update({'EQU': -1})\n",
    "model = QMzyme.GenerateModel(PDB)\n",
    "model.set_catalytic_center(selection='resid 263')\n",
    "model.catalytic_center.set_charge(-1)\n",
    "model.set_region(selection=DistanceCutoff, cutoff=5)\n",
    "c_alpha_atoms = model.cutoff_5.get_atoms(attribute='name', value='CA')\n",
    "model.cutoff_5.set_fixed_atoms(atoms=c_alpha_atoms)"
   ]
  },
  {
   "cell_type": "markdown",
   "id": "647c7ec9-24be-401f-928b-fbfb198f2136",
   "metadata": {},
   "source": [
    "#### Serialize QMzymeModel object \n",
    "The pickle file will by default be named after the QMzymeModel.name attribute, which by default is the base name of the file originally used to initialize the model. You can also specify a filename by passing the argument 'filename'. "
   ]
  },
  {
   "cell_type": "code",
   "execution_count": 2,
   "id": "01873b56-2610-4322-a080-e0b76485b3f6",
   "metadata": {},
   "outputs": [],
   "source": [
    "model.store_pickle()"
   ]
  },
  {
   "cell_type": "markdown",
   "id": "25a8b18e-0117-45bc-9e42-4f493fa1ce7f",
   "metadata": {},
   "source": [
    "#### Upload serialized QMzymeModel object"
   ]
  },
  {
   "cell_type": "code",
   "execution_count": 3,
   "id": "addf5acf-8e79-4095-866d-dfac8ad31a1b",
   "metadata": {},
   "outputs": [],
   "source": [
    "test = QMzyme.GenerateModel(pickle_file=f'{model.name}.pkl')"
   ]
  },
  {
   "cell_type": "markdown",
   "id": "e9e5ce71-7c8b-4f47-9f15-d34dabea04a4",
   "metadata": {},
   "source": [
    "#### Define and assign calculation methods"
   ]
  },
  {
   "cell_type": "code",
   "execution_count": 4,
   "id": "1ef41e9c-05bc-46c9-b1a1-7299025d19e8",
   "metadata": {},
   "outputs": [
    {
     "name": "stdout",
     "output_type": "stream",
     "text": [
      "QMzymeRegion cutoff_5 has an estimated charge of -2.\n",
      "QMzymeRegion catalytic_center_cutoff_5_combined has an estimated charge of -2.\n",
      "\n",
      "Truncated model has been created and saved to attribute 'truncated' and stored in QMzyme.CalculateModel.calculation under key QMQM2. This model will be used to write the calculation input.\n"
     ]
    }
   ],
   "source": [
    "qm1_method = QMzyme.QM_Method(basis_set='6-31+G**', \n",
    "               functional='wB97X-D3', \n",
    "               qm_input='OPT FREQ', \n",
    "               program='orca')\n",
    "\n",
    "qm2_method = QMzyme.QM_Method(basis_set='6-31G*', \n",
    "               functional='wB97X-D3')\n",
    "\n",
    "qm1_method.assign_to_region(region=model.catalytic_center)\n",
    "qm2_method.assign_to_region(region=model.cutoff_5)\n",
    "\n",
    "model.truncate()"
   ]
  },
  {
   "cell_type": "markdown",
   "id": "7743f422-a7f4-4de1-83f6-4801eba1b91a",
   "metadata": {},
   "source": [
    "#### Write calculation input file\n",
    "\n",
    "The final step now is to use the write_input() method to create the calculation input file. When this method is called, the store_pickle() method is triggered and you will have the corresponding .pkl file for your QMzymeModel. This is especially useful because after your calculation is completed you can then load the calculation results back into the corresponding QMzymeRegion using the QMzymeRegion method store_calculation_results() passing it the calculation file. This method uses the cclib library to parse the output, so any calculation file that cclib can read can be stored to your QMzymeRegion."
   ]
  },
  {
   "cell_type": "code",
   "execution_count": 5,
   "id": "2eb9506a-7939-48f8-a6c0-e0d96c5f9610",
   "metadata": {},
   "outputs": [
    {
     "name": "stdout",
     "output_type": "stream",
     "text": [
      "Use of this Writer class requires citing the following: \n",
      " \t1. Alegre‐Requena, J. V., Sowndarya S. V., S., Pérez‐Soto, R., Alturaifi, T. M. & Paton, R. S. AQME: Automated quantum mechanical environments for researchers and educators. WIREs Comput Mol Sci 13, e1663 (2023).\n",
      "File /Users/hrk/git/QMzyme/docs/Examples/QCALC/catalytic_center_cutoff_5_combined_truncated.inp created.\n"
     ]
    }
   ],
   "source": [
    "model.write_input()"
   ]
  }
 ],
 "metadata": {
  "kernelspec": {
   "display_name": "Python 3 (ipykernel)",
   "language": "python",
   "name": "python3"
  },
  "language_info": {
   "codemirror_mode": {
    "name": "ipython",
    "version": 3
   },
   "file_extension": ".py",
   "mimetype": "text/x-python",
   "name": "python",
   "nbconvert_exporter": "python",
   "pygments_lexer": "ipython3",
   "version": "3.11.7"
  }
 },
 "nbformat": 4,
 "nbformat_minor": 5
}
