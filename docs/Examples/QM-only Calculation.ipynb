{
 "cells": [
  {
   "cell_type": "markdown",
   "id": "3ff2e826-2061-4071-859c-010a1a5fe4e0",
   "metadata": {},
   "source": [
    "# QM-only Calculation "
   ]
  },
  {
   "cell_type": "markdown",
   "id": "dbaa7c4b-20c8-4e04-a7cc-2c2fad8e6999",
   "metadata": {},
   "source": [
    "In this example, we will use QMzyme to create a truncated active site composed of residues within 4 Angstroms of the bound ligand. All C-alpha atoms are set to be frozen during geometry optimization.\n",
    "\n",
    "Classes used in this example:\n",
    "\n",
    "- [GenerateModel](https://qmzyme.readthedocs.io/en/latest/API/QMzyme.GenerateModel.html)\n",
    "\n",
    "- [QM_Method](https://qmzyme.readthedocs.io/en/latest/API/QMzyme.CalculateModel.html#qm-treatment)\n",
    "\n",
    "- [CA_terminal TruncationScheme](https://qmzyme.readthedocs.io/en/latest/API/QMzyme.TruncationSchemes.html#QMzyme.TruncationSchemes.CA_terminal)\n",
    "\n",
    "- [DistanceCutoff SelectionScheme](https://qmzyme.readthedocs.io/en/latest/API/QMzyme.SelectionSchemes.html#QMzyme.SelectionSchemes.DistanceCutoff)\n"
   ]
  },
  {
   "cell_type": "code",
   "execution_count": 2,
   "id": "656289a3-2d1c-49a9-aaed-69fcca90e2f5",
   "metadata": {},
   "outputs": [],
   "source": [
    "import QMzyme \n",
    "from QMzyme.data import PDB"
   ]
  },
  {
   "cell_type": "markdown",
   "id": "869ac5af-96c8-4e7a-b505-d7f2d8f663d4",
   "metadata": {},
   "source": [
    "#### Initialize Model and Define Regions"
   ]
  },
  {
   "cell_type": "code",
   "execution_count": 3,
   "id": "790aeb66-da33-4940-9401-b2bea7758ba2",
   "metadata": {
    "tags": []
   },
   "outputs": [
    {
     "name": "stdout",
     "output_type": "stream",
     "text": [
      "\n",
      "Charge information not present. QMzyme will try to guess region charges based on residue names consistent with AMBER naming conventions (i.e., aspartate: ASP --> Charge: -1, aspartic acid: ASH --> Charge: 0.). See QMzyme.data.residue_charges for the full set.\n",
      "\n",
      "\tNonconventional Residues Found\n",
      "\t------------------------------\n",
      "\tEQU --> Charge: UNK, defaulting to 0\n",
      "\n",
      "You can update charge information for nonconventional residues by running \n",
      "\t>>>QMzyme.data.residue_charges.update({'3LETTER_RESNAME':INTEGER_CHARGE}). \n",
      "Note your changes will not be stored after you exit your session. It is recommended to only alter the residue_charges dictionary. If you alter the protein_residues dictionary instead that could cause unintended bugs in other modules (TruncationSchemes).\n",
      "\n",
      "[<QMzymeRegion catalytic_center contains 37 atom(s) and 1 residue(s)>, <QMzymeRegion cutoff_5 contains 427 atom(s) and 33 residue(s)>]\n"
     ]
    }
   ],
   "source": [
    "model = QMzyme.GenerateModel(PDB)\n",
    "\n",
    "# add unknown residue charge\n",
    "QMzyme.data.residue_charges.update({'EQU': -1})\n",
    "\n",
    "# set catalytic center\n",
    "model.set_catalytic_center(selection='resid 263')\n",
    "\n",
    "# import selection scheme 'DistanceCutoff' and use it to create 5 Angstrom \n",
    "# region around catalytic center.\n",
    "from QMzyme.SelectionSchemes import DistanceCutoff\n",
    "model.set_region(selection=DistanceCutoff, cutoff=5)\n",
    "print(model.regions)"
   ]
  },
  {
   "cell_type": "markdown",
   "id": "8aea48de-fedd-4fdc-b0a0-bdf11f5651f5",
   "metadata": {},
   "source": [
    "#### Designate Coordinate Constraints"
   ]
  },
  {
   "cell_type": "code",
   "execution_count": 4,
   "id": "8d511ea4-2fc5-44fb-88d7-3998b6385253",
   "metadata": {},
   "outputs": [
    {
     "name": "stdout",
     "output_type": "stream",
     "text": [
      "Fixed atoms:  [<QMzymeAtom 235: CA of resname TYR, resid 16>, <QMzymeAtom 256: CA of resname ILE, resid 17>, <QMzymeAtom 309: CA of resname VAL, resid 20>, <QMzymeAtom 595: CA of resname ASP, resid 40>, <QMzymeAtom 615: CA of resname PRO, resid 41>, <QMzymeAtom 851: CA of resname TYR, resid 57>, <QMzymeAtom 896: CA of resname GLN, resid 59>, <QMzymeAtom 913: CA of resname GLY, resid 60>, <QMzymeAtom 920: CA of resname LEU, resid 61>, <QMzymeAtom 982: CA of resname VAL, resid 66>, <QMzymeAtom 1022: CA of resname ALA, resid 68>, <QMzymeAtom 1225: CA of resname MET, resid 84>, <QMzymeAtom 1256: CA of resname PHE, resid 86>, <QMzymeAtom 1300: CA of resname VAL, resid 88>, <QMzymeAtom 1331: CA of resname MET, resid 90>, <QMzymeAtom 1461: CA of resname LEU, resid 99>, <QMzymeAtom 1492: CA of resname VAL, resid 101>, <QMzymeAtom 1527: CA of resname ASH, resid 103>, <QMzymeAtom 1743: CA of resname MET, resid 116>, <QMzymeAtom 1777: CA of resname ALA, resid 118>, <QMzymeAtom 1808: CA of resname TRP, resid 120>, <QMzymeAtom 1888: CA of resname LEU, resid 125>]\n"
     ]
    }
   ],
   "source": [
    "c_alpha_atoms = model.cutoff_5.get_atoms(attribute='name', value='CA')\n",
    "model.cutoff_5.set_fixed_atoms(atoms=c_alpha_atoms)\n",
    "\n",
    "print(\"Fixed atoms: \",model.cutoff_5.get_atoms(attribute='is_fixed', value=True))"
   ]
  },
  {
   "cell_type": "markdown",
   "id": "0452bc54-1da1-4587-a835-03e368cd7c8a",
   "metadata": {},
   "source": [
    "#### Build the QM Method and Assign to Region"
   ]
  },
  {
   "cell_type": "code",
   "execution_count": 5,
   "id": "7ece80d6-f4de-4c2a-b882-9e974f0ed8a6",
   "metadata": {},
   "outputs": [
    {
     "name": "stdout",
     "output_type": "stream",
     "text": [
      "\n",
      "Estimating total charge for QMzymeRegion cutoff_5 based on residue naming conventions in QMzyme.data.residue_charges...\n",
      "\t<QMzymeResidue resname: TYR, resid: 16, chain: A> --> Charge: 0\n",
      "\t<QMzymeResidue resname: ILE, resid: 17, chain: A> --> Charge: 0\n",
      "\t<QMzymeResidue resname: VAL, resid: 20, chain: A> --> Charge: 0\n",
      "\t<QMzymeResidue resname: ASP, resid: 40, chain: A> --> Charge: -1\n",
      "\t<QMzymeResidue resname: PRO, resid: 41, chain: A> --> Charge: 0\n",
      "\t<QMzymeResidue resname: TYR, resid: 57, chain: A> --> Charge: 0\n",
      "\t<QMzymeResidue resname: GLN, resid: 59, chain: A> --> Charge: 0\n",
      "\t<QMzymeResidue resname: GLY, resid: 60, chain: A> --> Charge: 0\n",
      "\t<QMzymeResidue resname: LEU, resid: 61, chain: A> --> Charge: 0\n",
      "\t<QMzymeResidue resname: VAL, resid: 66, chain: A> --> Charge: 0\n",
      "\t<QMzymeResidue resname: ALA, resid: 68, chain: A> --> Charge: 0\n",
      "\t<QMzymeResidue resname: MET, resid: 84, chain: A> --> Charge: 0\n",
      "\t<QMzymeResidue resname: PHE, resid: 86, chain: A> --> Charge: 0\n",
      "\t<QMzymeResidue resname: VAL, resid: 88, chain: A> --> Charge: 0\n",
      "\t<QMzymeResidue resname: MET, resid: 90, chain: A> --> Charge: 0\n",
      "\t<QMzymeResidue resname: LEU, resid: 99, chain: A> --> Charge: 0\n",
      "\t<QMzymeResidue resname: VAL, resid: 101, chain: A> --> Charge: 0\n",
      "\t<QMzymeResidue resname: ASH, resid: 103, chain: A> --> Charge: 0\n",
      "\t<QMzymeResidue resname: MET, resid: 116, chain: A> --> Charge: 0\n",
      "\t<QMzymeResidue resname: ALA, resid: 118, chain: A> --> Charge: 0\n",
      "\t<QMzymeResidue resname: TRP, resid: 120, chain: A> --> Charge: 0\n",
      "\t<QMzymeResidue resname: LEU, resid: 125, chain: A> --> Charge: 0\n",
      "\t<QMzymeResidue resname: EQU, resid: 263, chain: A> --> Charge: -1\n",
      "\t<QMzymeResidue resname: WAT, resid: 372, chain: A> --> Charge: 0\n",
      "\t<QMzymeResidue resname: WAT, resid: 373, chain: A> --> Charge: 0\n",
      "\t<QMzymeResidue resname: WAT, resid: 376, chain: A> --> Charge: 0\n",
      "\t<QMzymeResidue resname: WAT, resid: 378, chain: A> --> Charge: 0\n",
      "\t<QMzymeResidue resname: WAT, resid: 379, chain: A> --> Charge: 0\n",
      "\t<QMzymeResidue resname: WAT, resid: 380, chain: A> --> Charge: 0\n",
      "\t<QMzymeResidue resname: WAT, resid: 385, chain: A> --> Charge: 0\n",
      "\t<QMzymeResidue resname: WAT, resid: 387, chain: A> --> Charge: 0\n",
      "\t<QMzymeResidue resname: WAT, resid: 388, chain: A> --> Charge: 0\n",
      "\t<QMzymeResidue resname: WAT, resid: 389, chain: A> --> Charge: 0\n",
      "QMzymeRegion cutoff_5 has an estimated charge of -2.\n"
     ]
    }
   ],
   "source": [
    "qm_method = QMzyme.QM_Method(\n",
    "    basis_set='6-31G*', \n",
    "    functional='wB97X-D3', \n",
    "    qm_input='OPT FREQ', \n",
    "    program='orca'\n",
    ")\n",
    "\n",
    "# since we are not specifying the charge in this method below, the method\n",
    "# will estimate the charge based on residue naming conventions\n",
    "qm_method.assign_to_region(region=model.cutoff_5)\n",
    "\n",
    "# you would alternatively uncomment and run:\n",
    "#qm_method.assign_to_region(region=model.cutoff_5, charge=-2, mult=1)"
   ]
  },
  {
   "cell_type": "markdown",
   "id": "a97f3e6c-b3e5-4d18-b2dd-6b62964b8ccb",
   "metadata": {},
   "source": [
    "#### Truncate Model"
   ]
  },
  {
   "cell_type": "code",
   "execution_count": 6,
   "id": "1ec497de-267b-40ce-8d30-1063e532cd4b",
   "metadata": {},
   "outputs": [
    {
     "name": "stdout",
     "output_type": "stream",
     "text": [
      "\n",
      "Truncated model has been created and saved to attribute 'truncated' and stored in QMzyme.CalculateModel.calculation under key QM. This model will be used to write the calculation input.\n",
      "Truncated model:  <QMzymeRegion cutoff_5_truncated contains 391 atom(s) and 33 residue(s)>\n",
      "Method details:  {'type': 'QM', 'qm_input': '6-31G* wB97X-D3 OPT FREQ', 'basis_set': '6-31G*', 'functional': 'wB97X-D3', 'qm_end': '', 'program': 'orca', 'freeze_atoms': [2, 23, 42, 58, 78, 84, 105, 122, 129, 148, 164, 174, 191, 211, 227, 244, 263, 279, 292, 309, 319, 343], 'mult': 1, 'charge': -2}\n"
     ]
    }
   ],
   "source": [
    "model.truncate()\n",
    "print(\"Truncated model: \", QMzyme.CalculateModel.calculation['QM'])\n",
    "print(\"Method details: \", QMzyme.CalculateModel.calculation['QM'].method)"
   ]
  },
  {
   "cell_type": "markdown",
   "id": "4515b22d-ed66-40e0-957a-ddf79aad6460",
   "metadata": {},
   "source": [
    "#### Write QM Input File"
   ]
  },
  {
   "cell_type": "code",
   "execution_count": 7,
   "id": "2e602cab-691f-4e08-8172-2e1d365bef81",
   "metadata": {},
   "outputs": [
    {
     "name": "stdout",
     "output_type": "stream",
     "text": [
      "File /Users/hrk/git/QMzyme/docs/Examples/QCALC/cutoff_5_truncated.inp created.\n"
     ]
    }
   ],
   "source": [
    "model.write_input()"
   ]
  }
 ],
 "metadata": {
  "kernelspec": {
   "display_name": "Python 3 (ipykernel)",
   "language": "python",
   "name": "python3"
  },
  "language_info": {
   "codemirror_mode": {
    "name": "ipython",
    "version": 3
   },
   "file_extension": ".py",
   "mimetype": "text/x-python",
   "name": "python",
   "nbconvert_exporter": "python",
   "pygments_lexer": "ipython3",
   "version": "3.11.7"
  }
 },
 "nbformat": 4,
 "nbformat_minor": 5
}
