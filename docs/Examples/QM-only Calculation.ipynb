{
 "cells": [
  {
   "cell_type": "markdown",
   "id": "3ff2e826-2061-4071-859c-010a1a5fe4e0",
   "metadata": {},
   "source": [
    "# QM-only Calculation "
   ]
  },
  {
   "cell_type": "markdown",
   "id": "dbaa7c4b-20c8-4e04-a7cc-2c2fad8e6999",
   "metadata": {},
   "source": [
    "In this example, we will use QMzyme to create a truncated active site composed of residues within 4 Angstroms of the bound ligand. All C-alpha atoms are set to be frozen during geometry optimization.\n",
    "\n",
    "Classes used in this example:\n",
    "\n",
    "- [GenerateModel](https://qmzyme.readthedocs.io/en/latest/API/QMzyme.GenerateModel.html)\n",
    "\n",
    "- [QM_Method](https://qmzyme.readthedocs.io/en/latest/API/QMzyme.CalculateModel.html#qm-treatment)\n",
    "\n",
    "- [CA_terminal TruncationScheme](https://qmzyme.readthedocs.io/en/latest/API/QMzyme.TruncationSchemes.html#QMzyme.TruncationSchemes.CA_terminal)\n",
    "\n",
    "- [DistanceCutoff SelectionScheme](https://qmzyme.readthedocs.io/en/latest/API/QMzyme.SelectionSchemes.html#QMzyme.SelectionSchemes.DistanceCutoff)\n"
   ]
  },
  {
   "cell_type": "code",
   "execution_count": 1,
   "id": "656289a3-2d1c-49a9-aaed-69fcca90e2f5",
   "metadata": {},
   "outputs": [
    {
     "name": "stderr",
     "output_type": "stream",
     "text": [
      "/Users/hrk/anaconda3/envs/qmzyme/lib/python3.11/site-packages/MDAnalysis/topology/TPRParser.py:161: DeprecationWarning: 'xdrlib' is deprecated and slated for removal in Python 3.13\n",
      "  import xdrlib\n"
     ]
    }
   ],
   "source": [
    "from QMzyme import GenerateModel\n",
    "from QMzyme.CalculateModel import QM_Method\n",
    "from QMzyme.data import PDB"
   ]
  },
  {
   "cell_type": "markdown",
   "id": "869ac5af-96c8-4e7a-b505-d7f2d8f663d4",
   "metadata": {},
   "source": [
    "#### Initialize Model and Define Regions"
   ]
  },
  {
   "cell_type": "code",
   "execution_count": 2,
   "id": "790aeb66-da33-4940-9401-b2bea7758ba2",
   "metadata": {
    "tags": []
   },
   "outputs": [
    {
     "name": "stdout",
     "output_type": "stream",
     "text": [
      "[<QMzymeRegion catalytic_center contains 37 atom(s) and 1 residue(s)>, <QMzymeRegion cutoff_5 contains 427 atom(s) and 33 residue(s)>]\n"
     ]
    }
   ],
   "source": [
    "model = GenerateModel(PDB)\n",
    "model.set_catalytic_center(selection='resid 263')\n",
    "\n",
    "from QMzyme.SelectionSchemes import DistanceCutoff\n",
    "model.set_region(selection=DistanceCutoff, cutoff=5)\n",
    "print(model.regions)"
   ]
  },
  {
   "cell_type": "markdown",
   "id": "a97f3e6c-b3e5-4d18-b2dd-6b62964b8ccb",
   "metadata": {},
   "source": [
    "#### Truncate Region"
   ]
  },
  {
   "cell_type": "code",
   "execution_count": 3,
   "id": "1ec497de-267b-40ce-8d30-1063e532cd4b",
   "metadata": {},
   "outputs": [
    {
     "name": "stdout",
     "output_type": "stream",
     "text": [
      "[<QMzymeRegion catalytic_center contains 37 atom(s) and 1 residue(s)>, <QMzymeRegion cutoff_5 contains 427 atom(s) and 33 residue(s)>, <QMzymeRegion cutoff_5_truncated contains 391 atom(s) and 33 residue(s)>]\n"
     ]
    }
   ],
   "source": [
    "model.truncate_region(region=model.cutoff_5)\n",
    "print(model.regions)"
   ]
  },
  {
   "cell_type": "markdown",
   "id": "8aea48de-fedd-4fdc-b0a0-bdf11f5651f5",
   "metadata": {},
   "source": [
    "#### Designate Coordinate Constraints\n",
    "Make sure this is done with the truncated region!"
   ]
  },
  {
   "cell_type": "code",
   "execution_count": 4,
   "id": "20d838a2-ca0f-4f00-99e5-97c5639ab20e",
   "metadata": {},
   "outputs": [
    {
     "name": "stdout",
     "output_type": "stream",
     "text": [
      "[<QMzymeAtom 236: CA of resname TYR, resid 16>, <QMzymeAtom 258: CA of resname ILE, resid 17>, <QMzymeAtom 311: CA of resname VAL, resid 20>, <QMzymeAtom 596: CA of resname ASP, resid 40>, <QMzymeAtom 617: CA of resname PRO, resid 41>, <QMzymeAtom 853: CA of resname TYR, resid 57>, <QMzymeAtom 897: CA of resname GLN, resid 59>, <QMzymeAtom 914: CA of resname GLY, resid 60>, <QMzymeAtom 922: CA of resname LEU, resid 61>, <QMzymeAtom 984: CA of resname VAL, resid 66>, <QMzymeAtom 1024: CA of resname ALA, resid 68>, <QMzymeAtom 1227: CA of resname MET, resid 84>, <QMzymeAtom 1258: CA of resname PHE, resid 86>, <QMzymeAtom 1302: CA of resname VAL, resid 88>, <QMzymeAtom 1333: CA of resname MET, resid 90>, <QMzymeAtom 1463: CA of resname LEU, resid 99>, <QMzymeAtom 1494: CA of resname VAL, resid 101>, <QMzymeAtom 1529: CA of resname ASH, resid 103>, <QMzymeAtom 1745: CA of resname MET, resid 116>, <QMzymeAtom 1779: CA of resname ALA, resid 118>, <QMzymeAtom 1810: CA of resname TRP, resid 120>, <QMzymeAtom 1890: CA of resname LEU, resid 125>]\n"
     ]
    }
   ],
   "source": [
    "c_alpha_atoms = model.cutoff_5_truncated.get_atoms(attribute='name', value='CA')\n",
    "model.cutoff_5_truncated.set_fixed_atoms(atoms=c_alpha_atoms)\n",
    "\n",
    "print(model.cutoff_5_truncated.get_atoms(attribute='is_fixed', value=True))"
   ]
  },
  {
   "cell_type": "markdown",
   "id": "0452bc54-1da1-4587-a835-03e368cd7c8a",
   "metadata": {},
   "source": [
    "#### Build the QM Method and Assign to Region"
   ]
  },
  {
   "cell_type": "code",
   "execution_count": 5,
   "id": "7ece80d6-f4de-4c2a-b882-9e974f0ed8a6",
   "metadata": {},
   "outputs": [
    {
     "name": "stdout",
     "output_type": "stream",
     "text": [
      "\n",
      "Estimating total charge for QMzymeRegion cutoff_5_truncated based on protein residue naming conventions...\n",
      "<QMzymeResidue resname: TYR, resid: 16, chain: A> Charge: 0\n",
      "<QMzymeResidue resname: ILE, resid: 17, chain: A> Charge: 0\n",
      "<QMzymeResidue resname: VAL, resid: 20, chain: A> Charge: 0\n",
      "<QMzymeResidue resname: ASP, resid: 40, chain: A> Charge: -1\n",
      "<QMzymeResidue resname: PRO, resid: 41, chain: A> Charge: 0\n",
      "<QMzymeResidue resname: TYR, resid: 57, chain: A> Charge: 0\n",
      "<QMzymeResidue resname: GLN, resid: 59, chain: A> Charge: 0\n",
      "<QMzymeResidue resname: GLY, resid: 60, chain: A> Charge: 0\n",
      "<QMzymeResidue resname: LEU, resid: 61, chain: A> Charge: 0\n",
      "<QMzymeResidue resname: VAL, resid: 66, chain: A> Charge: 0\n",
      "<QMzymeResidue resname: ALA, resid: 68, chain: A> Charge: 0\n",
      "<QMzymeResidue resname: MET, resid: 84, chain: A> Charge: 0\n",
      "<QMzymeResidue resname: PHE, resid: 86, chain: A> Charge: 0\n",
      "<QMzymeResidue resname: VAL, resid: 88, chain: A> Charge: 0\n",
      "<QMzymeResidue resname: MET, resid: 90, chain: A> Charge: 0\n",
      "<QMzymeResidue resname: LEU, resid: 99, chain: A> Charge: 0\n",
      "<QMzymeResidue resname: VAL, resid: 101, chain: A> Charge: 0\n",
      "<QMzymeResidue resname: ASH, resid: 103, chain: A> Charge: 0\n",
      "<QMzymeResidue resname: MET, resid: 116, chain: A> Charge: 0\n",
      "<QMzymeResidue resname: ALA, resid: 118, chain: A> Charge: 0\n",
      "<QMzymeResidue resname: TRP, resid: 120, chain: A> Charge: 0\n",
      "<QMzymeResidue resname: LEU, resid: 125, chain: A> Charge: 0\n",
      "<QMzymeResidue resname: EQU, resid: 263, chain: A> Charge: UNK\n",
      "\n",
      "!!!Charge estimation may be inaccurate due to presence of residue(s) with unknown charge: [<QMzymeResidue resname: EQU, resid: 263, chain: A>]. Ignoring unknown residues in charge estimation!!!\n",
      "QMzymeRegion cutoff_5_truncated has an estimated total charge of -1.\n"
     ]
    }
   ],
   "source": [
    "qm_method = QM_Method(\n",
    "    basis_set='6-31G*', \n",
    "    functional='wB97X-D3', \n",
    "    qm_input='OPT FREQ', \n",
    "    program='orca'\n",
    ")\n",
    "\n",
    "qm_method.assign_to_region(region=model.cutoff_5_truncated)"
   ]
  },
  {
   "cell_type": "markdown",
   "id": "a9c37c13-006a-4dea-beaf-fdaab9a691d4",
   "metadata": {},
   "source": [
    "#### Adjust Region Charge\n",
    "I know that the charge of EQU is -1, so I know that the estimated total charge is actually off. This can be manually adjusted."
   ]
  },
  {
   "cell_type": "code",
   "execution_count": 6,
   "id": "e100593d-d2bc-40d3-bd73-0f2315fac2da",
   "metadata": {},
   "outputs": [],
   "source": [
    "model.cutoff_5_truncated.set_charge(-2)"
   ]
  },
  {
   "cell_type": "markdown",
   "id": "4515b22d-ed66-40e0-957a-ddf79aad6460",
   "metadata": {},
   "source": [
    "#### Write QM Input File"
   ]
  },
  {
   "cell_type": "code",
   "execution_count": 7,
   "id": "2e602cab-691f-4e08-8172-2e1d365bef81",
   "metadata": {},
   "outputs": [
    {
     "name": "stdout",
     "output_type": "stream",
     "text": [
      "File /Users/hrk/git/QMzyme-documentation/docs/Examples/QCALC/cutoff_5_truncated.inp created.\n"
     ]
    }
   ],
   "source": [
    "model.write_input()"
   ]
  }
 ],
 "metadata": {
  "kernelspec": {
   "display_name": "Python 3 (ipykernel)",
   "language": "python",
   "name": "python3"
  },
  "language_info": {
   "codemirror_mode": {
    "name": "ipython",
    "version": 3
   },
   "file_extension": ".py",
   "mimetype": "text/x-python",
   "name": "python",
   "nbconvert_exporter": "python",
   "pygments_lexer": "ipython3",
   "version": "3.11.7"
  }
 },
 "nbformat": 4,
 "nbformat_minor": 5
}
