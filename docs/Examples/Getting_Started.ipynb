{
 "cells": [
  {
   "cell_type": "markdown",
   "id": "42aabce4-9a6d-4f92-9182-9a91f551e070",
   "metadata": {
    "tags": []
   },
   "source": [
    "# Getting Started\n",
    "\n",
    "In this example, you will see how you can initialize the QMzyme GenerateModel module in various ways, using the pre-packaged QMzyme data."
   ]
  },
  {
   "cell_type": "code",
   "execution_count": 2,
   "id": "eb54298b-c61b-4161-8847-6bff92712113",
   "metadata": {},
   "outputs": [],
   "source": [
    "from QMzyme import GenerateModel"
   ]
  },
  {
   "cell_type": "code",
   "execution_count": 3,
   "id": "9cf01442-2ef5-4804-8f1d-5bac5ceb838d",
   "metadata": {},
   "outputs": [
    {
     "name": "stdout",
     "output_type": "stream",
     "text": [
      "File:  1oh0.pdb\n",
      "\n",
      "Charge information not present. QMzyme will try to guess region charges based on residue names consistent with AMBER naming conventions (i.e., aspartate: ASP --> Charge: -1, aspartic acid: ASH --> Charge: 0.). See QMzyme.data.residue_charges for the full set.\n",
      "\n",
      "\tNonconventional Residues Found\n",
      "\t------------------------------\n",
      "\tEQU --> Charge: UNK, defaulting to 0\n",
      "\n",
      "You can update charge information for nonconventional residues by running \n",
      "\t>>>QMzyme.data.residue_charges.update({'3LETTER_RESNAME':INTEGER_CHARGE}). \n",
      "Note your changes will not be stored after you exit your session. It is recommended to only alter the residue_charges dictionary. If you alter the protein_residues dictionary instead that could cause unintended bugs in other modules (TruncationSchemes).\n",
      "\n",
      "GenerateModel instance:  <QMzymeModel built from <Universe with 4258 atoms> contains 0 region(s)>\n"
     ]
    }
   ],
   "source": [
    "# Initialization of the QMzymeModel\n",
    "# The GenerateModel class can be initialized in any way that an MDAnalysis Universe can be initialized.\n",
    "\n",
    "# With a PDB file:\n",
    "\n",
    "from QMzyme.data import PDB\n",
    "import os\n",
    "print(\"File: \", os.path.basename(PDB))\n",
    "pdb_model = GenerateModel(PDB)\n",
    "print(\"GenerateModel instance: \", pdb_model)"
   ]
  },
  {
   "cell_type": "code",
   "execution_count": 4,
   "id": "88a45a1d-6137-4e6f-ac9d-73d1dea23a38",
   "metadata": {},
   "outputs": [
    {
     "name": "stdout",
     "output_type": "stream",
     "text": [
      "Files:  1oh0_equ.prmtop 1oh0_equ.rst7\n",
      "GenerateModel instance:  <QMzymeModel built from <Universe with 58553 atoms> contains 0 region(s)>\n"
     ]
    }
   ],
   "source": [
    "# With a topology file (.prmtop) and a restart file (.rst7) used in an AMBER MM simulation setup. The contained structure inclues the water box, so there are many atoms!\n",
    "\n",
    "from QMzyme.data import TOP, RST\n",
    "print(\"Files: \", os.path.basename(TOP), os.path.basename(RST))\n",
    "top_rst_model = GenerateModel(TOP, RST, format='RESTRT')\n",
    "print(\"GenerateModel instance: \", top_rst_model)"
   ]
  },
  {
   "cell_type": "code",
   "execution_count": 5,
   "id": "297ba1ef-987a-4460-9c75-d45d8cad8854",
   "metadata": {},
   "outputs": [
    {
     "name": "stdout",
     "output_type": "stream",
     "text": [
      "Files:  1oh0_equ.prod_1.stripped.pqr 1oh0_equ.prod_1.stripped.dcd\n",
      "GenerateModel instance:  <QMzymeModel built from <Universe with 4258 atoms> contains 0 region(s)>\n"
     ]
    },
    {
     "name": "stderr",
     "output_type": "stream",
     "text": [
      "/Users/hrk/anaconda3/envs/qmzyme/lib/python3.11/site-packages/MDAnalysis/coordinates/DCD.py:165: DeprecationWarning: DCDReader currently makes independent timesteps by copying self.ts while other readers update self.ts inplace. This behavior will be changed in 3.0 to be the same as other readers. Read more at https://github.com/MDAnalysis/mdanalysis/issues/3889 to learn if this change in behavior might affect you.\n",
      "  warnings.warn(\"DCDReader currently makes independent timesteps\"\n",
      "/Users/hrk/git/QMzyme/QMzyme/MDAnalysisWrapper.py:28: UserWarning: Element information was missing from input. MDAnalysis.topology.guessers.guess_types was used to infer element types.\n",
      "  warnings.warn(\"Element information was missing from input. MDAnalysis.topology.guessers.guess_types was used to infer element types.\", UserWarning)\n"
     ]
    }
   ],
   "source": [
    "# With a PQR file, containing charge information, and a trajectory DCD file:\n",
    "\n",
    "from QMzyme.data import PQR, DCD\n",
    "print(\"Files: \", os.path.basename(PQR), os.path.basename(DCD))\n",
    "pqr_dcd = GenerateModel(PQR, DCD)\n",
    "print(\"GenerateModel instance: \", pqr_dcd)"
   ]
  },
  {
   "cell_type": "code",
   "execution_count": null,
   "id": "9175ebc5-ea73-45a2-a01c-64cf050e88fb",
   "metadata": {},
   "outputs": [],
   "source": []
  }
 ],
 "metadata": {
  "kernelspec": {
   "display_name": "Python 3 (ipykernel)",
   "language": "python",
   "name": "python3"
  },
  "language_info": {
   "codemirror_mode": {
    "name": "ipython",
    "version": 3
   },
   "file_extension": ".py",
   "mimetype": "text/x-python",
   "name": "python",
   "nbconvert_exporter": "python",
   "pygments_lexer": "ipython3",
   "version": "3.11.7"
  }
 },
 "nbformat": 4,
 "nbformat_minor": 5
}
