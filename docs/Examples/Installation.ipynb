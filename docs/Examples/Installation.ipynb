{
 "cells": [
  {
   "cell_type": "markdown",
   "id": "2bd9e847-78a4-4858-ba16-264cb23028e9",
   "metadata": {},
   "source": [
    "# Installation"
   ]
  },
  {
   "cell_type": "markdown",
   "id": "4bb2d51f-ff13-4fc7-bed8-f9c4e4d2fd2d",
   "metadata": {},
   "source": [
    "### PyPi (pip)\n",
    "\n",
    "> pip install QMzyme"
   ]
  },
  {
   "cell_type": "markdown",
   "id": "aa3d0860-07ce-4951-aeca-ede4f9809280",
   "metadata": {},
   "source": [
    "### PyPi (pip) developer branch\n",
    "\n",
    "> pip install -i https://test.pypi.org/simple/ QMzyme==0.0.6.dev84 --extra-index-url https://pypi.org/simple/ QMzyme==0.0.6.dev84"
   ]
  },
  {
   "cell_type": "markdown",
   "id": "8c0eb8c9-fb79-4baa-aa86-3c1845191eb3",
   "metadata": {},
   "source": [
    "### Github\n",
    "\n",
    "> git clone https://github.com/hklem/QMzyme\n",
    "> \n",
    "> cd QMzyme\n",
    "> \n",
    "> pip install ."
   ]
  }
 ],
 "metadata": {
  "kernelspec": {
   "display_name": "Python 3 (ipykernel)",
   "language": "python",
   "name": "python3"
  },
  "language_info": {
   "codemirror_mode": {
    "name": "ipython",
    "version": 3
   },
   "file_extension": ".py",
   "mimetype": "text/x-python",
   "name": "python",
   "nbconvert_exporter": "python",
   "pygments_lexer": "ipython3",
   "version": "3.11.7"
  }
 },
 "nbformat": 4,
 "nbformat_minor": 5
}
