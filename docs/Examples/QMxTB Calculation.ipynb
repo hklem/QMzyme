{
 "cells": [
  {
   "cell_type": "markdown",
   "id": "5058c99d-37e0-4d1d-a60c-30e432c8a4dc",
   "metadata": {},
   "source": [
    "# QM/xTB Calculation"
   ]
  },
  {
   "cell_type": "code",
   "execution_count": null,
   "id": "16b959bc-6a16-4a6d-bbb0-afc559117b8e",
   "metadata": {},
   "outputs": [],
   "source": [
    "from QMzyme import GenerateModel\n",
    "from QMzyme.CalculateModel import QM_Method, XTB_Method\n",
    "from QMzyme.SelectionSchemes import DistanceCutoff\n",
    "from QMzyme.data import PDB"
   ]
  },
  {
   "cell_type": "code",
   "execution_count": null,
   "id": "28163f9d-a3a5-42c4-a9ad-4d52e831522f",
   "metadata": {},
   "outputs": [],
   "source": [
    "model = GenerateModel(PDB)\n",
    "model.set_catalytic_center(selection='resid 263')\n",
    "model.catalytic_center.set_charge(-1)\n",
    "model.set_region(selection=DistanceCutoff, cutoff=5)\n",
    "model.truncate_region(region=model.cutoff_5)\n",
    "c_alpha_atoms = model.cutoff_5_truncated.get_atoms(attribute='name', value='CA')\n",
    "model.cutoff_5_truncated.set_fixed_atoms(atoms=c_alpha_atoms)"
   ]
  },
  {
   "cell_type": "code",
   "execution_count": null,
   "id": "0bd5f0a3-16f1-48e8-a4fd-16cc25763c49",
   "metadata": {},
   "outputs": [],
   "source": [
    "qm_method = QM_Method(basis_set='6-31G*', \n",
    "               functional='wB97X-D3', \n",
    "               qm_input='OPT FREQ', \n",
    "               program='orca')\n",
    "\n",
    "qm_method.assign_to_region(region=model.catalytic_center)"
   ]
  },
  {
   "cell_type": "code",
   "execution_count": null,
   "id": "1686de60-d870-4086-85e6-bd5e90fe3f78",
   "metadata": {},
   "outputs": [],
   "source": [
    "XTB_Method().assign_to_region(region=model.cutoff_5_truncated)"
   ]
  },
  {
   "cell_type": "code",
   "execution_count": null,
   "id": "3a3082e2-bea2-4cb9-9dc7-ed032a704be7",
   "metadata": {},
   "outputs": [],
   "source": [
    "model.write_input()"
   ]
  },
  {
   "cell_type": "code",
   "execution_count": null,
   "id": "5bb28dbe-7dae-4a1c-8e72-34a324cde187",
   "metadata": {},
   "outputs": [],
   "source": []
  }
 ],
 "metadata": {
  "kernelspec": {
   "display_name": "Python 3 (ipykernel)",
   "language": "python",
   "name": "python3"
  },
  "language_info": {
   "codemirror_mode": {
    "name": "ipython",
    "version": 3
   },
   "file_extension": ".py",
   "mimetype": "text/x-python",
   "name": "python",
   "nbconvert_exporter": "python",
   "pygments_lexer": "ipython3",
   "version": "3.11.7"
  }
 },
 "nbformat": 4,
 "nbformat_minor": 5
}
