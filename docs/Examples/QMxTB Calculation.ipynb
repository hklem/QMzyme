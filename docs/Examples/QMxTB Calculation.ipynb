{
 "cells": [
  {
   "cell_type": "markdown",
   "id": "5058c99d-37e0-4d1d-a60c-30e432c8a4dc",
   "metadata": {},
   "source": [
    "# QM/xTB Calculation\n",
    "\n",
    "In this example you will define a catalytic center as the bound ligand, residue 263 (EQU), and a second region containing atoms within 5 Angstroms of the catalytic center using the Selection Scheme DistanceCutoff. All alpha carbons will be constrained for optimization using set_fixed_atoms(), a method of the QMzymeRegion class. You will set a high-level QM method for the catalytic center region, and a lower-lever xTB (XTB) method to treat the larger system. After assigning the calculation methods you will truncated the model using the default Truncation Scheme, AlphaCarbonTerminal.\n",
    "\n",
    "Classes used in this example:\n",
    "\n",
    "- [GenerateModel](https://qmzyme.readthedocs.io/en/latest/API/QMzyme.GenerateModel.html)\n",
    "\n",
    "- [QM_Method](https://qmzyme.readthedocs.io/en/latest/API/QMzyme.CalculateModel.html#qm-treatment)\n",
    "\n",
    "- [XTB_Method](https://qmzyme.readthedocs.io/en/latest/API/QMzyme.CalculateModel.html#xtb-treatment)\n",
    "\n",
    "- [CA_terminal TruncationScheme](https://qmzyme.readthedocs.io/en/latest/API/QMzyme.TruncationSchemes.html#QMzyme.TruncationSchemes.CA_terminal)\n",
    "\n",
    "- [DistanceCutoff SelectionScheme](https://qmzyme.readthedocs.io/en/latest/API/QMzyme.SelectionSchemes.html#QMzyme.SelectionSchemes.DistanceCutoff)\n",
    "\n"
   ]
  },
  {
   "cell_type": "code",
   "execution_count": 2,
   "id": "16b959bc-6a16-4a6d-bbb0-afc559117b8e",
   "metadata": {},
   "outputs": [],
   "source": [
    "import QMzyme\n",
    "from QMzyme.SelectionSchemes import DistanceCutoff\n",
    "from QMzyme.data import PDB"
   ]
  },
  {
   "cell_type": "markdown",
   "id": "45354723-d13c-4147-a30d-8c42403a38a2",
   "metadata": {},
   "source": [
    "#### Initialize Model and Define Regions"
   ]
  },
  {
   "cell_type": "code",
   "execution_count": 3,
   "id": "28163f9d-a3a5-42c4-a9ad-4d52e831522f",
   "metadata": {},
   "outputs": [
    {
     "name": "stdout",
     "output_type": "stream",
     "text": [
      "\n",
      "Charge information not present. QMzyme will try to guess region charges based on residue names consistent with AMBER naming conventions (i.e., aspartate: ASP --> Charge: -1, aspartic acid: ASH --> Charge: 0.). See QMzyme.data.residue_charges for the full set.\n"
     ]
    }
   ],
   "source": [
    "QMzyme.data.residue_charges.update({'EQU': -1})\n",
    "model = QMzyme.GenerateModel(PDB)\n",
    "model.set_catalytic_center(selection='resid 263')\n",
    "model.catalytic_center.set_charge(-1)\n",
    "model.set_region(selection=DistanceCutoff, cutoff=5)\n",
    "c_alpha_atoms = model.cutoff_5.get_atoms(attribute='name', value='CA')\n",
    "model.cutoff_5.set_fixed_atoms(atoms=c_alpha_atoms)"
   ]
  },
  {
   "cell_type": "markdown",
   "id": "bae33a15-b64b-4ac0-b29f-6bc000d3230f",
   "metadata": {},
   "source": [
    "#### Build the QM Method and Assign to Region"
   ]
  },
  {
   "cell_type": "code",
   "execution_count": 4,
   "id": "0bd5f0a3-16f1-48e8-a4fd-16cc25763c49",
   "metadata": {},
   "outputs": [],
   "source": [
    "qm_method = QMzyme.QM_Method(basis_set='6-31G*', \n",
    "               functional='wB97X-D3', \n",
    "               qm_input='OPT FREQ', \n",
    "               program='orca')\n",
    "\n",
    "qm_method.assign_to_region(region=model.catalytic_center)"
   ]
  },
  {
   "cell_type": "markdown",
   "id": "d11f5045-cf28-492a-98ec-8f404ffcd968",
   "metadata": {},
   "source": [
    "#### Initialize the xTB method and Assign to Region"
   ]
  },
  {
   "cell_type": "code",
   "execution_count": 5,
   "id": "1686de60-d870-4086-85e6-bd5e90fe3f78",
   "metadata": {},
   "outputs": [
    {
     "name": "stdout",
     "output_type": "stream",
     "text": [
      "\n",
      "Estimating total charge for QMzymeRegion cutoff_5 based on residue naming conventions in QMzyme.data.residue_charges...\n",
      "\t<QMzymeResidue resname: TYR, resid: 16, chain: A> --> Charge: 0\n",
      "\t<QMzymeResidue resname: ILE, resid: 17, chain: A> --> Charge: 0\n",
      "\t<QMzymeResidue resname: VAL, resid: 20, chain: A> --> Charge: 0\n",
      "\t<QMzymeResidue resname: ASP, resid: 40, chain: A> --> Charge: -1\n",
      "\t<QMzymeResidue resname: PRO, resid: 41, chain: A> --> Charge: 0\n",
      "\t<QMzymeResidue resname: TYR, resid: 57, chain: A> --> Charge: 0\n",
      "\t<QMzymeResidue resname: GLN, resid: 59, chain: A> --> Charge: 0\n",
      "\t<QMzymeResidue resname: GLY, resid: 60, chain: A> --> Charge: 0\n",
      "\t<QMzymeResidue resname: LEU, resid: 61, chain: A> --> Charge: 0\n",
      "\t<QMzymeResidue resname: VAL, resid: 66, chain: A> --> Charge: 0\n",
      "\t<QMzymeResidue resname: ALA, resid: 68, chain: A> --> Charge: 0\n",
      "\t<QMzymeResidue resname: MET, resid: 84, chain: A> --> Charge: 0\n",
      "\t<QMzymeResidue resname: PHE, resid: 86, chain: A> --> Charge: 0\n",
      "\t<QMzymeResidue resname: VAL, resid: 88, chain: A> --> Charge: 0\n",
      "\t<QMzymeResidue resname: MET, resid: 90, chain: A> --> Charge: 0\n",
      "\t<QMzymeResidue resname: LEU, resid: 99, chain: A> --> Charge: 0\n",
      "\t<QMzymeResidue resname: VAL, resid: 101, chain: A> --> Charge: 0\n",
      "\t<QMzymeResidue resname: ASH, resid: 103, chain: A> --> Charge: 0\n",
      "\t<QMzymeResidue resname: MET, resid: 116, chain: A> --> Charge: 0\n",
      "\t<QMzymeResidue resname: ALA, resid: 118, chain: A> --> Charge: 0\n",
      "\t<QMzymeResidue resname: TRP, resid: 120, chain: A> --> Charge: 0\n",
      "\t<QMzymeResidue resname: LEU, resid: 125, chain: A> --> Charge: 0\n",
      "\t<QMzymeResidue resname: EQU, resid: 263, chain: A> --> Charge: -1\n",
      "\t<QMzymeResidue resname: WAT, resid: 372, chain: A> --> Charge: 0\n",
      "\t<QMzymeResidue resname: WAT, resid: 373, chain: A> --> Charge: 0\n",
      "\t<QMzymeResidue resname: WAT, resid: 376, chain: A> --> Charge: 0\n",
      "\t<QMzymeResidue resname: WAT, resid: 378, chain: A> --> Charge: 0\n",
      "\t<QMzymeResidue resname: WAT, resid: 379, chain: A> --> Charge: 0\n",
      "\t<QMzymeResidue resname: WAT, resid: 380, chain: A> --> Charge: 0\n",
      "\t<QMzymeResidue resname: WAT, resid: 385, chain: A> --> Charge: 0\n",
      "\t<QMzymeResidue resname: WAT, resid: 387, chain: A> --> Charge: 0\n",
      "\t<QMzymeResidue resname: WAT, resid: 388, chain: A> --> Charge: 0\n",
      "\t<QMzymeResidue resname: WAT, resid: 389, chain: A> --> Charge: 0\n",
      "QMzymeRegion cutoff_5 has an estimated charge of -2.\n"
     ]
    }
   ],
   "source": [
    "# no arguments are passed to initialize XTB_METHOD.\n",
    "QMzyme.XTB_Method().assign_to_region(region=model.cutoff_5)"
   ]
  },
  {
   "cell_type": "markdown",
   "id": "1bb56eea-48f6-4c36-8dfd-4cc8345ba565",
   "metadata": {},
   "source": [
    "#### Truncate the Model"
   ]
  },
  {
   "cell_type": "code",
   "execution_count": 6,
   "id": "a1819243-606f-4dd7-be14-9f21d4782fc2",
   "metadata": {},
   "outputs": [
    {
     "name": "stdout",
     "output_type": "stream",
     "text": [
      "\n",
      "Estimating total charge for QMzymeRegion catalytic_center_cutoff_5_combined based on residue naming conventions in QMzyme.data.residue_charges...\n",
      "\t<QMzymeResidue resname: TYR, resid: 16, chain: A> --> Charge: 0\n",
      "\t<QMzymeResidue resname: ILE, resid: 17, chain: A> --> Charge: 0\n",
      "\t<QMzymeResidue resname: VAL, resid: 20, chain: A> --> Charge: 0\n",
      "\t<QMzymeResidue resname: ASP, resid: 40, chain: A> --> Charge: -1\n",
      "\t<QMzymeResidue resname: PRO, resid: 41, chain: A> --> Charge: 0\n",
      "\t<QMzymeResidue resname: TYR, resid: 57, chain: A> --> Charge: 0\n",
      "\t<QMzymeResidue resname: GLN, resid: 59, chain: A> --> Charge: 0\n",
      "\t<QMzymeResidue resname: GLY, resid: 60, chain: A> --> Charge: 0\n",
      "\t<QMzymeResidue resname: LEU, resid: 61, chain: A> --> Charge: 0\n",
      "\t<QMzymeResidue resname: VAL, resid: 66, chain: A> --> Charge: 0\n",
      "\t<QMzymeResidue resname: ALA, resid: 68, chain: A> --> Charge: 0\n",
      "\t<QMzymeResidue resname: MET, resid: 84, chain: A> --> Charge: 0\n",
      "\t<QMzymeResidue resname: PHE, resid: 86, chain: A> --> Charge: 0\n",
      "\t<QMzymeResidue resname: VAL, resid: 88, chain: A> --> Charge: 0\n",
      "\t<QMzymeResidue resname: MET, resid: 90, chain: A> --> Charge: 0\n",
      "\t<QMzymeResidue resname: LEU, resid: 99, chain: A> --> Charge: 0\n",
      "\t<QMzymeResidue resname: VAL, resid: 101, chain: A> --> Charge: 0\n",
      "\t<QMzymeResidue resname: ASH, resid: 103, chain: A> --> Charge: 0\n",
      "\t<QMzymeResidue resname: MET, resid: 116, chain: A> --> Charge: 0\n",
      "\t<QMzymeResidue resname: ALA, resid: 118, chain: A> --> Charge: 0\n",
      "\t<QMzymeResidue resname: TRP, resid: 120, chain: A> --> Charge: 0\n",
      "\t<QMzymeResidue resname: LEU, resid: 125, chain: A> --> Charge: 0\n",
      "\t<QMzymeResidue resname: EQU, resid: 263, chain: A> --> Charge: -1\n",
      "\t<QMzymeResidue resname: WAT, resid: 372, chain: A> --> Charge: 0\n",
      "\t<QMzymeResidue resname: WAT, resid: 373, chain: A> --> Charge: 0\n",
      "\t<QMzymeResidue resname: WAT, resid: 376, chain: A> --> Charge: 0\n",
      "\t<QMzymeResidue resname: WAT, resid: 378, chain: A> --> Charge: 0\n",
      "\t<QMzymeResidue resname: WAT, resid: 379, chain: A> --> Charge: 0\n",
      "\t<QMzymeResidue resname: WAT, resid: 380, chain: A> --> Charge: 0\n",
      "\t<QMzymeResidue resname: WAT, resid: 385, chain: A> --> Charge: 0\n",
      "\t<QMzymeResidue resname: WAT, resid: 387, chain: A> --> Charge: 0\n",
      "\t<QMzymeResidue resname: WAT, resid: 388, chain: A> --> Charge: 0\n",
      "\t<QMzymeResidue resname: WAT, resid: 389, chain: A> --> Charge: 0\n",
      "QMzymeRegion catalytic_center_cutoff_5_combined has an estimated charge of -2.\n",
      "\n",
      "Truncated model has been created and saved to attribute 'truncated' and stored in QMzyme.CalculateModel.calculation under key QMXTB. This model will be used to write the calculation input.\n"
     ]
    }
   ],
   "source": [
    "model.truncate()"
   ]
  },
  {
   "cell_type": "markdown",
   "id": "53125766-5cc5-480c-88f6-91978858fecc",
   "metadata": {},
   "source": [
    "#### Write ORCA File"
   ]
  },
  {
   "cell_type": "code",
   "execution_count": 7,
   "id": "3a3082e2-bea2-4cb9-9dc7-ed032a704be7",
   "metadata": {},
   "outputs": [
    {
     "name": "stdout",
     "output_type": "stream",
     "text": [
      "File /Users/hrk/git/QMzyme/docs/Examples/QCALC/catalytic_center_cutoff_5_combined_truncated.inp created.\n"
     ]
    }
   ],
   "source": [
    "model.write_input()"
   ]
  }
 ],
 "metadata": {
  "kernelspec": {
   "display_name": "Python 3 (ipykernel)",
   "language": "python",
   "name": "python3"
  },
  "language_info": {
   "codemirror_mode": {
    "name": "ipython",
    "version": 3
   },
   "file_extension": ".py",
   "mimetype": "text/x-python",
   "name": "python",
   "nbconvert_exporter": "python",
   "pygments_lexer": "ipython3",
   "version": "3.11.7"
  }
 },
 "nbformat": 4,
 "nbformat_minor": 5
}
