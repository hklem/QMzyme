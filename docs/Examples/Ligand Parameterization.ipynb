{
 "cells": [
  {
   "cell_type": "markdown",
   "id": "9e33c919-1309-41a1-807b-f0406574dbb5",
   "metadata": {},
   "source": [
    "# Ligand Parameterization\n",
    "\n",
    "Molecular mechanics forcefields need to be told how to treat each atom via a set of parameters. If there is a molecule (residue) in your system that your forcefield of choice does not already have parameters, you will need to build these yourself. In this example, we will see how QMzyme can automate the calculations required to parameterize a ligand in line with the RESP procedure (J. Phys. Chem. 1993, 97, 40, 10269–1028). "
   ]
  },
  {
   "cell_type": "code",
   "execution_count": 8,
   "id": "2c90413f-1995-47eb-bd4a-f0b4f6efb2c6",
   "metadata": {},
   "outputs": [],
   "source": [
    "import QMzyme\n",
    "from QMzyme.data import PDB"
   ]
  },
  {
   "cell_type": "markdown",
   "id": "428ce54d-3d0c-43f9-91f6-a7565ca92c20",
   "metadata": {},
   "source": [
    "### Initialize Model"
   ]
  },
  {
   "cell_type": "code",
   "execution_count": 2,
   "id": "c3f2b5c3-a90d-4291-8393-c92a738d786f",
   "metadata": {},
   "outputs": [
    {
     "name": "stdout",
     "output_type": "stream",
     "text": [
      "\n",
      "Charge information not present. QMzyme will try to guess region charges based on residue names consistent with AMBER naming conventions (i.e., aspartate: ASP --> Charge: -1, aspartic acid: ASH --> Charge: 0.). See QMzyme.data.residue_charges for the full set.\n",
      "\n",
      "\tNonconventional Residues Found\n",
      "\t------------------------------\n",
      "\tEQU --> Charge: UNK, defaulting to 0\n",
      "\n",
      "You can update charge information for nonconventional residues by running \n",
      "\t>>>QMzyme.data.residue_charges.update({'3LETTER_RESNAME':INTEGER_CHARGE}). \n",
      "Note your changes will not be stored after you exit your session. It is recommended to only alter the residue_charges dictionary. If you alter the protein_residues dictionary instead that could cause unintended bugs in other modules (TruncationSchemes).\n",
      "\n"
     ]
    }
   ],
   "source": [
    "# The initial pdb file should be preparred prior (hydrogens must be present).\n",
    "\n",
    "pdb_file = PDB # here we are using package data. \n",
    "model = QMzyme.GenerateModel(PDB)"
   ]
  },
  {
   "cell_type": "markdown",
   "id": "10ee63fd-d748-40b4-b7af-c37e0cb9d0f7",
   "metadata": {},
   "source": [
    "### Add Ligand Charge"
   ]
  },
  {
   "cell_type": "code",
   "execution_count": 3,
   "id": "55b1bfd3-b8e0-4e88-9672-81ae8096ca7f",
   "metadata": {},
   "outputs": [],
   "source": [
    "QMzyme.data.residue_charges.update({'EQU': -1})"
   ]
  },
  {
   "cell_type": "markdown",
   "id": "62fe2630-8b6f-41fc-b01c-ab3721c097b2",
   "metadata": {},
   "source": [
    "### Designate Ligand Region "
   ]
  },
  {
   "cell_type": "code",
   "execution_count": 4,
   "id": "440699e9-b9c2-419a-be91-21e7f35f80cf",
   "metadata": {},
   "outputs": [
    {
     "name": "stdout",
     "output_type": "stream",
     "text": [
      "Ligand region:  <QMzymeRegion EQU contains 37 atom(s) and 1 residue(s)>\n"
     ]
    }
   ],
   "source": [
    "model.set_region(name='EQU', selection='resid 263 and resname EQU')\n",
    "print(\"Ligand region: \", model.EQU)"
   ]
  },
  {
   "cell_type": "markdown",
   "id": "579483c9-7d49-4888-a755-375c5bde88bc",
   "metadata": {},
   "source": [
    "### Build the QM Method"
   ]
  },
  {
   "cell_type": "code",
   "execution_count": 5,
   "id": "392ab132-4158-4e76-9896-70b56201b76c",
   "metadata": {},
   "outputs": [],
   "source": [
    "# For the purpose of this example we will forgo geometry optimization and only perform a single point energy \n",
    "# calculation and population analysis at the level used in the original RESP procedure (J. Phys. Chem. 1993, 97, 40, 10269–1028).\n",
    "\n",
    "qm_method = QMzyme.QM_Method(\n",
    "    basis_set='6-31G*', \n",
    "    functional='HF', \n",
    "    qm_input='SCF=Tight Pop=MK IOp(6/33=2,6/42=6,6/43=20)', \n",
    "    program='gaussian'\n",
    ")"
   ]
  },
  {
   "cell_type": "markdown",
   "id": "27de3960-f346-444a-9793-b5162baef942",
   "metadata": {},
   "source": [
    "### Assign QM Method to Region"
   ]
  },
  {
   "cell_type": "code",
   "execution_count": 6,
   "id": "b605c89e-d0c4-4538-aae3-dd244945cba4",
   "metadata": {},
   "outputs": [
    {
     "name": "stdout",
     "output_type": "stream",
     "text": [
      "QMzymeRegion EQU has an estimated charge of -1.\n"
     ]
    }
   ],
   "source": [
    "# Now we assign this method to our QMzymeRegion EQU\n",
    "# We also need to specify the charge and multiplicity (mult) because QMzyme currently only guesses charges of standard amino acids.\n",
    "\n",
    "qm_method.assign_to_region(region=model.EQU)"
   ]
  },
  {
   "cell_type": "markdown",
   "id": "d3b093f7-f604-4376-8ff2-ad31f22f3522",
   "metadata": {},
   "source": [
    "### Write Calculation Input File"
   ]
  },
  {
   "cell_type": "code",
   "execution_count": 7,
   "id": "933b4fb0-333d-43c9-b280-e1a21d8935a3",
   "metadata": {},
   "outputs": [
    {
     "name": "stdout",
     "output_type": "stream",
     "text": [
      "\n",
      "WARNING: model has not been truncated. Resulting model may not be a chemically complete structure (i.e., incomplete atomic valencies due to removed atoms).\n",
      "\n",
      "File /Users/hrk/git/QMzyme/docs/Examples/QCALC/EQU_resp.com created.\n"
     ]
    }
   ],
   "source": [
    "# Back to our Model\n",
    "\n",
    "# QMzyme will know we only have one region with a calculation method set, \n",
    "# so it will logically create the input file for that scenario\n",
    "\n",
    "model.write_input('EQU_resp')"
   ]
  }
 ],
 "metadata": {
  "kernelspec": {
   "display_name": "Python 3 (ipykernel)",
   "language": "python",
   "name": "python3"
  },
  "language_info": {
   "codemirror_mode": {
    "name": "ipython",
    "version": 3
   },
   "file_extension": ".py",
   "mimetype": "text/x-python",
   "name": "python",
   "nbconvert_exporter": "python",
   "pygments_lexer": "ipython3",
   "version": "3.11.7"
  }
 },
 "nbformat": 4,
 "nbformat_minor": 5
}
