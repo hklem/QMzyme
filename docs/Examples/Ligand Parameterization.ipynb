{
 "cells": [
  {
   "cell_type": "markdown",
   "id": "9e33c919-1309-41a1-807b-f0406574dbb5",
   "metadata": {},
   "source": [
    "# Ligand Parameterization\n",
    "\n",
    "Molecular mechanics forcefields need to be told how to treat each atom via a set of parameters. If there is a molecule (residue) in your system that your forcefield of choice does not already have parameters, you will need to build these yourself. In this example, we will see how QMzyme can automate the calculations required to parameterize a ligand in line with the RESP procedure (J. Phys. Chem. 1993, 97, 40, 10269–1028). "
   ]
  },
  {
   "cell_type": "code",
   "execution_count": 1,
   "id": "2c90413f-1995-47eb-bd4a-f0b4f6efb2c6",
   "metadata": {},
   "outputs": [
    {
     "name": "stderr",
     "output_type": "stream",
     "text": [
      "/Users/hrk/anaconda3/envs/qmzyme/lib/python3.11/site-packages/MDAnalysis/topology/TPRParser.py:161: DeprecationWarning: 'xdrlib' is deprecated and slated for removal in Python 3.13\n",
      "  import xdrlib\n"
     ]
    }
   ],
   "source": [
    "from QMzyme import GenerateModel\n",
    "from QMzyme.CalculateModel import QM_Method\n",
    "from QMzyme.data import PDB"
   ]
  },
  {
   "cell_type": "markdown",
   "id": "428ce54d-3d0c-43f9-91f6-a7565ca92c20",
   "metadata": {},
   "source": [
    "### Initialize Model"
   ]
  },
  {
   "cell_type": "code",
   "execution_count": 2,
   "id": "c3f2b5c3-a90d-4291-8393-c92a738d786f",
   "metadata": {},
   "outputs": [],
   "source": [
    "# The initial pdb file should be preparred prior (hydrogens must be present).\n",
    "\n",
    "pdb_file = PDB # here we are using package data. \n",
    "model = GenerateModel(PDB)"
   ]
  },
  {
   "cell_type": "markdown",
   "id": "62fe2630-8b6f-41fc-b01c-ab3721c097b2",
   "metadata": {},
   "source": [
    "### Designate Ligand Region "
   ]
  },
  {
   "cell_type": "code",
   "execution_count": 3,
   "id": "440699e9-b9c2-419a-be91-21e7f35f80cf",
   "metadata": {},
   "outputs": [
    {
     "name": "stdout",
     "output_type": "stream",
     "text": [
      "<QMzymeRegion EQU contains 37 atom(s) and 1 residue(s)>\n"
     ]
    }
   ],
   "source": [
    "model.set_region(name='EQU', selection='resid 263 and resname EQU')\n",
    "print(model.EQU)"
   ]
  },
  {
   "cell_type": "markdown",
   "id": "579483c9-7d49-4888-a755-375c5bde88bc",
   "metadata": {},
   "source": [
    "### Build the QM Method"
   ]
  },
  {
   "cell_type": "code",
   "execution_count": 4,
   "id": "392ab132-4158-4e76-9896-70b56201b76c",
   "metadata": {},
   "outputs": [],
   "source": [
    "# For the purpose of this example we will forgo geometry optimization and only perform a single point energy \n",
    "# calculation and population analysis at the level used in the original RESP procedure (J. Phys. Chem. 1993, 97, 40, 10269–1028).\n",
    "\n",
    "qm_method = QM_Method(\n",
    "    basis_set='6-31G*', \n",
    "    functional='HF', \n",
    "    qm_input='SCF=Tight Pop=MK IOp(6/33=2,6/42=6,6/43=20)', \n",
    "    program='gaussian'\n",
    ")"
   ]
  },
  {
   "cell_type": "markdown",
   "id": "27de3960-f346-444a-9793-b5162baef942",
   "metadata": {},
   "source": [
    "### Assign QM Method to Region"
   ]
  },
  {
   "cell_type": "code",
   "execution_count": 5,
   "id": "b605c89e-d0c4-4538-aae3-dd244945cba4",
   "metadata": {},
   "outputs": [],
   "source": [
    "# Now we assign this method to our QMzymeRegion EQU\n",
    "# We also need to specify the charge and multiplicity (mult) because QMzyme currently only guesses charges of standard amino acids.\n",
    "\n",
    "qm_method.assign_to_region(region=model.EQU, charge=-1, mult=1)"
   ]
  },
  {
   "cell_type": "markdown",
   "id": "d3b093f7-f604-4376-8ff2-ad31f22f3522",
   "metadata": {},
   "source": [
    "### Write Calculation Input File"
   ]
  },
  {
   "cell_type": "code",
   "execution_count": 6,
   "id": "933b4fb0-333d-43c9-b280-e1a21d8935a3",
   "metadata": {},
   "outputs": [
    {
     "name": "stdout",
     "output_type": "stream",
     "text": [
      "File /Users/hrk/git/QMzyme-documentation/docs/Examples/QCALC/EQU.com created.\n"
     ]
    }
   ],
   "source": [
    "# Back to our Model\n",
    "\n",
    "# QMzyme will know we only have one region with a calculation method set, \n",
    "# so it will logically create the input file for that scenario\n",
    "\n",
    "model.write_input()"
   ]
  },
  {
   "cell_type": "code",
   "execution_count": null,
   "id": "e91bc481-a7c6-4931-a96e-9e3383960bfe",
   "metadata": {},
   "outputs": [],
   "source": []
  }
 ],
 "metadata": {
  "kernelspec": {
   "display_name": "Python 3 (ipykernel)",
   "language": "python",
   "name": "python3"
  },
  "language_info": {
   "codemirror_mode": {
    "name": "ipython",
    "version": 3
   },
   "file_extension": ".py",
   "mimetype": "text/x-python",
   "name": "python",
   "nbconvert_exporter": "python",
   "pygments_lexer": "ipython3",
   "version": "3.11.7"
  }
 },
 "nbformat": 4,
 "nbformat_minor": 5
}
