{
 "cells": [
  {
   "cell_type": "markdown",
   "id": "5058c99d-37e0-4d1d-a60c-30e432c8a4dc",
   "metadata": {},
   "source": [
    "# QM/QM2 Calculation\n",
    "\n",
    "In this example you will define a catalytic center as the bound ligand, residue 263, and a second region containing atoms within 5 Angstroms of the catalytic center. You will then set a high-level QM method for the catalytic center region, and a lower-lever QM (QM2) method to treat the other atoms. All C-alpha atoms will be constrained for optimization.\n",
    "\n",
    "Classes used in this example:\n",
    "\n",
    "- [GenerateModel](https://qmzyme.readthedocs.io/en/latest/API/QMzyme.GenerateModel.html)\n",
    "\n",
    "- [QM_Method](https://qmzyme.readthedocs.io/en/latest/API/QMzyme.CalculateModel.html#qm-treatment)\n",
    "\n",
    "- [CA_terminal TruncationScheme](https://qmzyme.readthedocs.io/en/latest/API/QMzyme.TruncationSchemes.html#QMzyme.TruncationSchemes.CA_terminal)\n",
    "\n",
    "- [DistanceCutoff SelectionScheme](https://qmzyme.readthedocs.io/en/latest/API/QMzyme.SelectionSchemes.html#QMzyme.SelectionSchemes.DistanceCutoff)\n"
   ]
  },
  {
   "cell_type": "code",
   "execution_count": 5,
   "id": "16b959bc-6a16-4a6d-bbb0-afc559117b8e",
   "metadata": {},
   "outputs": [],
   "source": [
    "import QMzyme\n",
    "from QMzyme.SelectionSchemes import DistanceCutoff\n",
    "from QMzyme.data import PDB"
   ]
  },
  {
   "cell_type": "markdown",
   "id": "83e96410-4b36-40e8-a888-37108addeff5",
   "metadata": {},
   "source": [
    "#### Initialize Model and Define Regions"
   ]
  },
  {
   "cell_type": "code",
   "execution_count": 2,
   "id": "28163f9d-a3a5-42c4-a9ad-4d52e831522f",
   "metadata": {},
   "outputs": [
    {
     "name": "stdout",
     "output_type": "stream",
     "text": [
      "\n",
      "Charge information not present. QMzyme will try to guess region charges based on residue names consistent with AMBER naming conventions (i.e., aspartate: ASP --> Charge: -1, aspartic acid: ASH --> Charge: 0.). See QMzyme.data.residue_charges for the full set.\n"
     ]
    }
   ],
   "source": [
    "QMzyme.data.residue_charges.update({'EQU': -1})\n",
    "model = QMzyme.GenerateModel(PDB)\n",
    "model.set_catalytic_center(selection='resid 263')\n",
    "model.catalytic_center.set_charge(-1)\n",
    "model.set_region(selection=DistanceCutoff, cutoff=5)\n",
    "c_alpha_atoms = model.cutoff_5.get_atoms(attribute='name', value='CA')\n",
    "model.cutoff_5.set_fixed_atoms(atoms=c_alpha_atoms)"
   ]
  },
  {
   "cell_type": "markdown",
   "id": "4fc7305e-8f8e-488d-ba8e-809272fc0023",
   "metadata": {},
   "source": [
    "#### Build the QM Methods and Assign to Regions"
   ]
  },
  {
   "cell_type": "code",
   "execution_count": 3,
   "id": "0bd5f0a3-16f1-48e8-a4fd-16cc25763c49",
   "metadata": {},
   "outputs": [
    {
     "name": "stdout",
     "output_type": "stream",
     "text": [
      "QMzymeRegion cutoff_5 has an estimated charge of -2.\n",
      "QMzymeRegion catalytic_center_cutoff_5_combined has an estimated charge of -2.\n",
      "\n",
      "Truncated model has been created and saved to attribute 'truncated' and stored in QMzyme.CalculateModel.calculation under key QMQM2. This model will be used to write the calculation input.\n"
     ]
    }
   ],
   "source": [
    "qm1_method = QMzyme.QM_Method(basis_set='6-31+G**', \n",
    "               functional='wB97X-D3', \n",
    "               qm_input='OPT FREQ', \n",
    "               program='orca')\n",
    "\n",
    "qm2_method = QMzyme.QM_Method(basis_set='6-31G*', \n",
    "               functional='wB97X-D3')\n",
    "\n",
    "qm1_method.assign_to_region(region=model.catalytic_center)\n",
    "qm2_method.assign_to_region(region=model.cutoff_5)\n",
    "\n",
    "model.truncate()"
   ]
  },
  {
   "cell_type": "markdown",
   "id": "6388fb32-fde4-4b71-b5fe-72ee23e2477a",
   "metadata": {},
   "source": [
    "#### Write QM Input"
   ]
  },
  {
   "cell_type": "code",
   "execution_count": 4,
   "id": "3a3082e2-bea2-4cb9-9dc7-ed032a704be7",
   "metadata": {},
   "outputs": [
    {
     "name": "stdout",
     "output_type": "stream",
     "text": [
      "File /Users/hrk/git/QMzyme/docs/Examples/QCALC/catalytic_center_cutoff_5_combined_truncated.inp created.\n"
     ]
    }
   ],
   "source": [
    "model.write_input()"
   ]
  }
 ],
 "metadata": {
  "kernelspec": {
   "display_name": "Python 3 (ipykernel)",
   "language": "python",
   "name": "python3"
  },
  "language_info": {
   "codemirror_mode": {
    "name": "ipython",
    "version": 3
   },
   "file_extension": ".py",
   "mimetype": "text/x-python",
   "name": "python",
   "nbconvert_exporter": "python",
   "pygments_lexer": "ipython3",
   "version": "3.11.7"
  }
 },
 "nbformat": 4,
 "nbformat_minor": 5
}
