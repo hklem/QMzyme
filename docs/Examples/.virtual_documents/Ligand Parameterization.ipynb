


import QMzyme
from QMzyme.data import PDB





# The initial pdb file should be preparred prior (hydrogens must be present).

pdb_file = PDB # here we are using package data. 
model = QMzyme.GenerateModel(PDB)





QMzyme.data.residue_charges.update({'EQU': -1})





model.set_region(name='EQU', selection='resid 263 and resname EQU')
print("Ligand region: ", model.EQU)





# For the purpose of this example we will forgo geometry optimization and only perform a single point energy 
# calculation and population analysis at the level used in the original RESP procedure (J. Phys. Chem. 1993, 97, 40, 10269–1028).

qm_method = QMzyme.QM_Method(
    basis_set='6-31G*', 
    functional='HF', 
    qm_input='SCF=Tight Pop=MK IOp(6/33=2,6/42=6,6/43=20)', 
    program='gaussian'
)





# Now we assign this method to our QMzymeRegion EQU
# We also need to specify the charge and multiplicity (mult) because QMzyme currently only guesses charges of standard amino acids.

qm_method.assign_to_region(region=model.EQU)





# Back to our Model

# QMzyme will know we only have one region with a calculation method set, 
# so it will logically create the input file for that scenario

model.write_input('EQU_resp')
