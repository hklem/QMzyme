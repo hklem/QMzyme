with open("cutoff_3_truncated.inp", "r") as f:
    lines = f.readlines()
# for i, line in enumerate(lines):
#     if line.startswith("!"):
#         if "QM/XTB" not in line:
#             f.write(f"{line[0]} QM/XTB {line[1:]}")
#     f.write(line)



class test:
    def __init__(self):
        self.name = 'Al'
        self.number = 1


a = test()


a.__dict__



for attr in a.__dict__:
    print(attr)


total_charge = 0 

qmmm_section = "%QMMM\n"
qmmm_section += f" QMATOMS {qm_atoms} END\n"
qmmm_section += f" Charge_Total {total_charge} END\n"

new_lines = []
for i, line in enumerate(lines):
    if line.startswith("!"):
        if "QM/XTB" not in line:
            new_lines.append(f"{line[0]} QM/XTB {line[1:]}")
        new_lines.append(qmmm_section)
    else:
        new_lines.append(line)

with open("test.inp", "w") as f:
    f.writelines(new_lines)



calc_file = "cutoff_3_truncated.inp"

with open(calc_file, "r") as f:
    lines = f.readlines()
for i,line in enumerate(lines):
    if "_conf_1" in line:
        print(lines[i])
        lines[i] = line.replace("_conf_1", "")
        print(lines[i])
with open(calc_file, "w+") as f:
    f.writelines(lines)
            
            



def write_QMQM(filename, high_level_atoms, total_charge, qm2_method, program='orca', **kwargs):
    """
    !QM/QM2 WB97X-D3 DEF2-TZVP
    %QMMM QM2CUSTOMMETHOD "PBE D3BJ DEF2-SVP"
      QMATOMS {2:3} {6:13} END
    """
    
    qprep(**kwargs)
    # clean up file name because AQME QPREP adds _conf ending.
    filename = rename_file(filename, kwargs["program"])
    qmqm2_section = ""
    with open(filename, 'r') as f:
        lines = f.readlines()

    high_level_atoms = get_atom_range(high_level_atoms)
    qmmm_section = f"%QMMM QM2CUSTOMMETHOD {qm2_method}\n"
    qmmm_section += f" QMATOMS {high_level_atoms} END\n"

    new_lines = []
    for i, line in enumerate(lines):
        if line.startswith("!"):
            if "QM/QM2" not in line:
                new_lines.append(f"{line[0]} QM/QM2 {line[1:]}")
            new_lines.append(qmmm_section)
        else:
            new_lines.append(line)

    with open(filename, "w+") as f:
        f.writelines(new_lines)



