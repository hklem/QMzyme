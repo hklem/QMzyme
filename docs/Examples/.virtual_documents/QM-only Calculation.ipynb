





import QMzyme 
from QMzyme.data import PDB





model = QMzyme.GenerateModel(PDB)

# add unknown residue charge
QMzyme.data.residue_charges.update({'EQU': -1})

# set catalytic center
model.set_catalytic_center(selection='resid 263')

# import selection scheme 'DistanceCutoff' and use it to create 5 Angstrom 
# region around catalytic center.
from QMzyme.SelectionSchemes import DistanceCutoff
model.set_region(selection=DistanceCutoff, cutoff=5)
print(model.regions)





c_alpha_atoms = model.cutoff_5.get_atoms(attribute='name', value='CA')
model.cutoff_5.set_fixed_atoms(atoms=c_alpha_atoms)

print("Fixed atoms: ",model.cutoff_5.get_atoms(attribute='is_fixed', value=True))





qm_method = QMzyme.QM_Method(
    basis_set='6-31G*', 
    functional='wB97X-D3', 
    qm_input='OPT FREQ', 
    program='orca'
)

# since we are not specifying the charge in this method below, the method
# will estimate the charge based on residue naming conventions
qm_method.assign_to_region(region=model.cutoff_5)

# you would alternatively uncomment and run:
#qm_method.assign_to_region(region=model.cutoff_5, charge=-2, mult=1)





model.truncate()
print("Truncated model: ", QMzyme.CalculateModel.calculation['QM'])
print("Method details: ", QMzyme.CalculateModel.calculation['QM'].method)





model.write_input()
