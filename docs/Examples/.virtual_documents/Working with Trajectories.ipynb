


import QMzyme
from QMzyme.SelectionSchemes import DistanceCutoff
from QMzyme.data import PQR, DCD


# How many frames?
model = QMzyme.GenerateModel(PQR, DCD)
print("Number of Frames: ", model.universe.trajectory.n_frames)





%%time

qm_method = QMzyme.QM_Method(
    basis_set='6-31G*', 
    functional='wB97X-D3', 
    qm_input='OPT FREQ', 
    program='orca'
)

for frame in range(0, 50, 10):
    print('\n====================================')
    print(f'             Frame {frame}')
    print('====================================')
    m = QMzyme.GenerateModel(PQR, DCD, frame=frame)
    m.set_catalytic_center('resid 263')
    m.set_region(selection=DistanceCutoff, cutoff=3)
    m.cutoff_3.rename(f'{m.cutoff_3.name}_frame_{frame}')
    c_alpha_atoms = m.regions[-1].get_atoms(attribute='name', value='CA')
    m.regions[-1].set_fixed_atoms(atoms=c_alpha_atoms)
    qm_method.assign_to_region(region=m.regions[-1])
    m.truncate()
    m.write_input(filename=f"{m.name}_cutoff3_frame{frame}_qm")





%%time

qm_method = QMzyme.QM_Method(
    basis_set='6-31+G*', 
    functional='wB97X-D3', 
    qm_input='OPT FREQ', 
    program='orca'
)

xtb_method = QMzyme.XTB_Method()

for frame in range(0, 50, 10):
    print('\n====================================')
    print(f'             Frame {frame}')
    print('====================================')
    m = QMzyme.GenerateModel(PQR, DCD, frame=frame)
    m.set_catalytic_center('resid 263')
    m.set_region(name='qm_region', selection='resid 263 or resid 103')
    m.set_region(selection=DistanceCutoff, cutoff=8)
    m.cutoff_8.rename(f'{m.cutoff_8.name}_frame_{frame}')
    qm_method.assign_to_region(region=m.qm_region)
    xtb_method.assign_to_region(region=m.cutoff_8)
    m.truncate()
    m.write_input(filename=f"{m.name}_cutoff8_frame{frame}_qmxtb")
