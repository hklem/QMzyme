


import QMzyme
import os


# Initialization of the QMzymeModel
# The GenerateModel class can be initialized in any way that an MDAnalysis Universe can be initialized.

# With a PDB file:

from QMzyme.data import PDB
print("File: ", os.path.basename(PDB))
pdb_model = QMzyme.GenerateModel(PDB)
print("GenerateModel instance: ", pdb_model)


# With a topology file (.prmtop) and a restart file (.rst7) used in an AMBER MM simulation setup. The contained structure inclues the water box, so there are many atoms!

from QMzyme.data import TOP, RST
print("Files: ", os.path.basename(TOP), os.path.basename(RST))
top_rst_model = QMzyme.GenerateModel(TOP, RST, format='RESTRT')
print("GenerateModel instance: ", top_rst_model)


# With a PQR file, containing charge information, and a trajectory DCD file:

from QMzyme.data import PQR, DCD
print("Files: ", os.path.basename(PQR), os.path.basename(DCD))
pqr_dcd = QMzyme.GenerateModel(PQR, DCD)
print("GenerateModel instance: ", pqr_dcd)



