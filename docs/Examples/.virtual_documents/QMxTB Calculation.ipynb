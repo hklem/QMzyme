


import QMzyme
from QMzyme.SelectionSchemes import DistanceCutoff
from QMzyme.data import PDB





QMzyme.data.residue_charges.update({'EQU': -1})
model = QMzyme.GenerateModel(PDB)
model.set_catalytic_center(selection='resid 263')
model.catalytic_center.set_charge(-1)
model.set_region(selection=DistanceCutoff, cutoff=5)
c_alpha_atoms = model.cutoff_5.get_atoms(attribute='name', value='CA')
model.cutoff_5.set_fixed_atoms(atoms=c_alpha_atoms)





qm_method = QMzyme.QM_Method(basis_set='6-31G*', 
               functional='wB97X-D3', 
               qm_input='OPT FREQ', 
               program='orca')

qm_method.assign_to_region(region=model.catalytic_center)





# no arguments are passed to initialize XTB_METHOD.
QMzyme.XTB_Method().assign_to_region(region=model.cutoff_5)





model.truncate()





model.write_input()
