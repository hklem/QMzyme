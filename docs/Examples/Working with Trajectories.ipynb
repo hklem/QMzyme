{
 "cells": [
  {
   "cell_type": "markdown",
   "id": "31f5b6fe-80cd-4ff1-87fa-a3fcae45ea63",
   "metadata": {},
   "source": [
    "# Working with Trajectories\n",
    "\n",
    "In this example you will see QMzyme can be used to generate multiple QMzyme Models from different trajectory snapshots. \n",
    "\n",
    "Classes used in this example:\n",
    "\n",
    "- [GenerateModel](https://qmzyme.readthedocs.io/en/latest/API/QMzyme.GenerateModel.html)\n",
    "\n",
    "- [QM_Method](https://qmzyme.readthedocs.io/en/latest/API/QMzyme.CalculateModel.html#qm-treatment)\n",
    "\n",
    "- [XTB_Method](https://qmzyme.readthedocs.io/en/latest/API/QMzyme.CalculateModel.html#xtb-treatment)\n",
    "\n",
    "- [CA_terminal TruncationScheme](https://qmzyme.readthedocs.io/en/latest/API/QMzyme.TruncationSchemes.html#QMzyme.TruncationSchemes.CA_terminal)\n",
    "\n",
    "- [DistanceCutoff SelectionScheme](https://qmzyme.readthedocs.io/en/latest/API/QMzyme.SelectionSchemes.html#QMzyme.SelectionSchemes.DistanceCutoff)\n"
   ]
  },
  {
   "cell_type": "code",
   "execution_count": 5,
   "id": "3ad09bda-c63f-4ea3-a59b-c4aaac6fa3fc",
   "metadata": {},
   "outputs": [],
   "source": [
    "import QMzyme\n",
    "from QMzyme.SelectionSchemes import DistanceCutoff\n",
    "from QMzyme.data import PQR, DCD"
   ]
  },
  {
   "cell_type": "code",
   "execution_count": 2,
   "id": "e317f761-96f0-45b7-8c79-984921f9e212",
   "metadata": {},
   "outputs": [
    {
     "name": "stdout",
     "output_type": "stream",
     "text": [
      "Number of Frames:  50\n"
     ]
    },
    {
     "name": "stderr",
     "output_type": "stream",
     "text": [
      "/Users/hrk/anaconda3/envs/qmzyme/lib/python3.11/site-packages/MDAnalysis/coordinates/DCD.py:165: DeprecationWarning: DCDReader currently makes independent timesteps by copying self.ts while other readers update self.ts inplace. This behavior will be changed in 3.0 to be the same as other readers. Read more at https://github.com/MDAnalysis/mdanalysis/issues/3889 to learn if this change in behavior might affect you.\n",
      "  warnings.warn(\"DCDReader currently makes independent timesteps\"\n",
      "/Users/hrk/git/QMzyme/QMzyme/MDAnalysisWrapper.py:28: UserWarning: Element information was missing from input. MDAnalysis.topology.guessers.guess_types was used to infer element types.\n",
      "  warnings.warn(\"Element information was missing from input. MDAnalysis.topology.guessers.guess_types was used to infer element types.\", UserWarning)\n"
     ]
    }
   ],
   "source": [
    "# How many frames?\n",
    "model = QMzyme.GenerateModel(PQR, DCD)\n",
    "print(\"Number of Frames: \", model.universe.trajectory.n_frames)"
   ]
  },
  {
   "cell_type": "markdown",
   "id": "7b9a400d-da47-4365-9093-bb3ed02074db",
   "metadata": {},
   "source": [
    "#### QM-only: Loop over frames to generate QMzymeModels\n",
    "In this first scenario, you will generate five QM-only models using the DistanceCutoff selection scheme with a cutoff of 3 Angstroms."
   ]
  },
  {
   "cell_type": "code",
   "execution_count": 3,
   "id": "d43b9337-7790-40f4-a13f-43553d49e2bf",
   "metadata": {},
   "outputs": [
    {
     "name": "stdout",
     "output_type": "stream",
     "text": [
      "\n",
      "====================================\n",
      "             Frame 0\n",
      "====================================\n",
      "\n",
      "Truncated model has been created and saved to attribute 'truncated' and stored in QMzyme.CalculateModel.calculation under key QM. This model will be used to write the calculation input.\n",
      "File /Users/hrk/git/QMzyme/docs/Examples/QCALC/1oh0_equ_cutoff3_frame0_qm.inp created.\n",
      "\n",
      "====================================\n",
      "             Frame 10\n",
      "====================================\n",
      "\n",
      "Truncated model has been created and saved to attribute 'truncated' and stored in QMzyme.CalculateModel.calculation under key QM. This model will be used to write the calculation input.\n",
      "File /Users/hrk/git/QMzyme/docs/Examples/QCALC/1oh0_equ_cutoff3_frame10_qm.inp created.\n",
      "\n",
      "====================================\n",
      "             Frame 20\n",
      "====================================\n",
      "\n",
      "Truncated model has been created and saved to attribute 'truncated' and stored in QMzyme.CalculateModel.calculation under key QM. This model will be used to write the calculation input.\n",
      "File /Users/hrk/git/QMzyme/docs/Examples/QCALC/1oh0_equ_cutoff3_frame20_qm.inp created.\n",
      "\n",
      "====================================\n",
      "             Frame 30\n",
      "====================================\n",
      "\n",
      "Truncated model has been created and saved to attribute 'truncated' and stored in QMzyme.CalculateModel.calculation under key QM. This model will be used to write the calculation input.\n",
      "File /Users/hrk/git/QMzyme/docs/Examples/QCALC/1oh0_equ_cutoff3_frame30_qm.inp created.\n",
      "\n",
      "====================================\n",
      "             Frame 40\n",
      "====================================\n",
      "\n",
      "Truncated model has been created and saved to attribute 'truncated' and stored in QMzyme.CalculateModel.calculation under key QM. This model will be used to write the calculation input.\n",
      "File /Users/hrk/git/QMzyme/docs/Examples/QCALC/1oh0_equ_cutoff3_frame40_qm.inp created.\n",
      "CPU times: user 366 ms, sys: 32.1 ms, total: 398 ms\n",
      "Wall time: 1.91 s\n"
     ]
    }
   ],
   "source": [
    "%%time\n",
    "\n",
    "qm_method = QMzyme.QM_Method(\n",
    "    basis_set='6-31G*', \n",
    "    functional='wB97X-D3', \n",
    "    qm_input='OPT FREQ', \n",
    "    program='orca'\n",
    ")\n",
    "\n",
    "for frame in range(0, 50, 10):\n",
    "    print('\\n====================================')\n",
    "    print(f'             Frame {frame}')\n",
    "    print('====================================')\n",
    "    m = QMzyme.GenerateModel(PQR, DCD, frame=frame)\n",
    "    m.set_catalytic_center('resid 263')\n",
    "    m.set_region(selection=DistanceCutoff, cutoff=3)\n",
    "    m.cutoff_3.rename(f'{m.cutoff_3.name}_frame_{frame}')\n",
    "    c_alpha_atoms = m.regions[-1].get_atoms(attribute='name', value='CA')\n",
    "    m.regions[-1].set_fixed_atoms(atoms=c_alpha_atoms)\n",
    "    qm_method.assign_to_region(region=m.regions[-1])\n",
    "    m.truncate()\n",
    "    m.write_input(filename=f\"{m.name}_cutoff3_frame{frame}_qm\")"
   ]
  },
  {
   "cell_type": "markdown",
   "id": "7e9a04cd-0415-47d4-bd32-cc00019bbb61",
   "metadata": {},
   "source": [
    "#### QM/xTB: Loop over frames to generate QMzymeModels\n",
    "In this second scenario, you will generate five QM/xTB models with a QM region consisting of the ligand, EQU and the catalytic ASP103 residue and a large xTB region containing residues within 8 Angstroms of EQU."
   ]
  },
  {
   "cell_type": "code",
   "execution_count": 4,
   "id": "4890d8bc-e312-41c8-b1cd-3472a07af734",
   "metadata": {},
   "outputs": [
    {
     "name": "stdout",
     "output_type": "stream",
     "text": [
      "\n",
      "====================================\n",
      "             Frame 0\n",
      "====================================\n",
      "\n",
      "Truncated model has been created and saved to attribute 'truncated' and stored in QMzyme.CalculateModel.calculation under key QMXTB. This model will be used to write the calculation input.\n",
      "File /Users/hrk/git/QMzyme/docs/Examples/QCALC/1oh0_equ_cutoff8_frame0_qmxtb.inp created.\n",
      "\n",
      "====================================\n",
      "             Frame 10\n",
      "====================================\n",
      "\n",
      "Truncated model has been created and saved to attribute 'truncated' and stored in QMzyme.CalculateModel.calculation under key QMXTB. This model will be used to write the calculation input.\n",
      "File /Users/hrk/git/QMzyme/docs/Examples/QCALC/1oh0_equ_cutoff8_frame10_qmxtb.inp created.\n",
      "\n",
      "====================================\n",
      "             Frame 20\n",
      "====================================\n",
      "\n",
      "Truncated model has been created and saved to attribute 'truncated' and stored in QMzyme.CalculateModel.calculation under key QMXTB. This model will be used to write the calculation input.\n",
      "File /Users/hrk/git/QMzyme/docs/Examples/QCALC/1oh0_equ_cutoff8_frame20_qmxtb.inp created.\n",
      "\n",
      "====================================\n",
      "             Frame 30\n",
      "====================================\n",
      "\n",
      "Truncated model has been created and saved to attribute 'truncated' and stored in QMzyme.CalculateModel.calculation under key QMXTB. This model will be used to write the calculation input.\n",
      "File /Users/hrk/git/QMzyme/docs/Examples/QCALC/1oh0_equ_cutoff8_frame30_qmxtb.inp created.\n",
      "\n",
      "====================================\n",
      "             Frame 40\n",
      "====================================\n",
      "\n",
      "Truncated model has been created and saved to attribute 'truncated' and stored in QMzyme.CalculateModel.calculation under key QMXTB. This model will be used to write the calculation input.\n",
      "File /Users/hrk/git/QMzyme/docs/Examples/QCALC/1oh0_equ_cutoff8_frame40_qmxtb.inp created.\n",
      "CPU times: user 3.84 s, sys: 42.2 ms, total: 3.88 s\n",
      "Wall time: 5.4 s\n"
     ]
    }
   ],
   "source": [
    "%%time\n",
    "\n",
    "qm_method = QMzyme.QM_Method(\n",
    "    basis_set='6-31+G*', \n",
    "    functional='wB97X-D3', \n",
    "    qm_input='OPT FREQ', \n",
    "    program='orca'\n",
    ")\n",
    "\n",
    "xtb_method = QMzyme.XTB_Method()\n",
    "\n",
    "for frame in range(0, 50, 10):\n",
    "    print('\\n====================================')\n",
    "    print(f'             Frame {frame}')\n",
    "    print('====================================')\n",
    "    m = QMzyme.GenerateModel(PQR, DCD, frame=frame)\n",
    "    m.set_catalytic_center('resid 263')\n",
    "    m.set_region(name='qm_region', selection='resid 263 or resid 103')\n",
    "    m.set_region(selection=DistanceCutoff, cutoff=8)\n",
    "    m.cutoff_8.rename(f'{m.cutoff_8.name}_frame_{frame}')\n",
    "    qm_method.assign_to_region(region=m.qm_region)\n",
    "    xtb_method.assign_to_region(region=m.cutoff_8)\n",
    "    m.truncate()\n",
    "    m.write_input(filename=f\"{m.name}_cutoff8_frame{frame}_qmxtb\")"
   ]
  }
 ],
 "metadata": {
  "kernelspec": {
   "display_name": "Python 3 (ipykernel)",
   "language": "python",
   "name": "python3"
  },
  "language_info": {
   "codemirror_mode": {
    "name": "ipython",
    "version": 3
   },
   "file_extension": ".py",
   "mimetype": "text/x-python",
   "name": "python",
   "nbconvert_exporter": "python",
   "pygments_lexer": "ipython3",
   "version": "3.11.7"
  }
 },
 "nbformat": 4,
 "nbformat_minor": 5
}
