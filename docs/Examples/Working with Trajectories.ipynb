{
 "cells": [
  {
   "cell_type": "markdown",
   "id": "31f5b6fe-80cd-4ff1-87fa-a3fcae45ea63",
   "metadata": {},
   "source": [
    "# Working with Trajectories"
   ]
  },
  {
   "cell_type": "code",
   "execution_count": 1,
   "id": "3ad09bda-c63f-4ea3-a59b-c4aaac6fa3fc",
   "metadata": {},
   "outputs": [
    {
     "name": "stderr",
     "output_type": "stream",
     "text": [
      "/Users/hrk/anaconda3/envs/qmzyme/lib/python3.11/site-packages/MDAnalysis/topology/TPRParser.py:161: DeprecationWarning: 'xdrlib' is deprecated and slated for removal in Python 3.13\n",
      "  import xdrlib\n"
     ]
    }
   ],
   "source": [
    "from QMzyme import GenerateModel\n",
    "from QMzyme.CalculateModel import QM_Method, XTB_Method\n",
    "from QMzyme.SelectionSchemes import DistanceCutoff\n",
    "from QMzyme.data import PQR, DCD"
   ]
  },
  {
   "cell_type": "code",
   "execution_count": 2,
   "id": "e317f761-96f0-45b7-8c79-984921f9e212",
   "metadata": {},
   "outputs": [
    {
     "name": "stdout",
     "output_type": "stream",
     "text": [
      "Number of Frames:  50\n"
     ]
    },
    {
     "name": "stderr",
     "output_type": "stream",
     "text": [
      "/Users/hrk/anaconda3/envs/qmzyme/lib/python3.11/site-packages/MDAnalysis/coordinates/DCD.py:165: DeprecationWarning: DCDReader currently makes independent timesteps by copying self.ts while other readers update self.ts inplace. This behavior will be changed in 3.0 to be the same as other readers. Read more at https://github.com/MDAnalysis/mdanalysis/issues/3889 to learn if this change in behavior might affect you.\n",
      "  warnings.warn(\"DCDReader currently makes independent timesteps\"\n",
      "/Users/hrk/git/QMzyme/QMzyme/MDAnalysisWrapper.py:21: UserWarning: Element information was missing from input. MDAnalysis.topology.guessers.guess_types was used to infer element types.\n",
      "  warnings.warn(\"Element information was missing from input. MDAnalysis.topology.guessers.guess_types was used to infer element types.\", UserWarning)\n"
     ]
    }
   ],
   "source": [
    "# How many frames?\n",
    "model = GenerateModel(PQR, DCD)\n",
    "print(\"Number of Frames: \", model.universe.trajectory.n_frames)"
   ]
  },
  {
   "cell_type": "code",
   "execution_count": 3,
   "id": "d43b9337-7790-40f4-a13f-43553d49e2bf",
   "metadata": {},
   "outputs": [
    {
     "name": "stdout",
     "output_type": "stream",
     "text": [
      "\n",
      "====================================\n",
      "             Frame 0\n",
      "====================================\n",
      "\n",
      "Calculating total charge for QMzymeRegion cutoff_3_frame_0_truncated based on charges read from topology attribute 'charge'...\n",
      "QMzymeRegion cutoff_3_frame_0_truncated has a total charge of 0.\n",
      "File /Users/hrk/git/QMzyme-documentation/docs/Examples/QCALC/cutoff_3_frame_0_truncated.inp created.\n",
      "\n",
      "====================================\n",
      "             Frame 10\n",
      "====================================\n",
      "\n",
      "Calculating total charge for QMzymeRegion cutoff_3_frame_10_truncated based on charges read from topology attribute 'charge'...\n",
      "QMzymeRegion cutoff_3_frame_10_truncated has a total charge of 0.\n",
      "File /Users/hrk/git/QMzyme-documentation/docs/Examples/QCALC/cutoff_3_frame_10_truncated.inp created.\n",
      "\n",
      "====================================\n",
      "             Frame 20\n",
      "====================================\n",
      "\n",
      "Calculating total charge for QMzymeRegion cutoff_3_frame_20_truncated based on charges read from topology attribute 'charge'...\n",
      "QMzymeRegion cutoff_3_frame_20_truncated has a total charge of -1.\n",
      "File /Users/hrk/git/QMzyme-documentation/docs/Examples/QCALC/cutoff_3_frame_20_truncated.inp created.\n",
      "\n",
      "====================================\n",
      "             Frame 30\n",
      "====================================\n",
      "\n",
      "Calculating total charge for QMzymeRegion cutoff_3_frame_30_truncated based on charges read from topology attribute 'charge'...\n",
      "QMzymeRegion cutoff_3_frame_30_truncated has a total charge of 0.\n",
      "File /Users/hrk/git/QMzyme-documentation/docs/Examples/QCALC/cutoff_3_frame_30_truncated.inp created.\n",
      "\n",
      "====================================\n",
      "             Frame 40\n",
      "====================================\n",
      "\n",
      "Calculating total charge for QMzymeRegion cutoff_3_frame_40_truncated based on charges read from topology attribute 'charge'...\n",
      "QMzymeRegion cutoff_3_frame_40_truncated has a total charge of -1.\n",
      "File /Users/hrk/git/QMzyme-documentation/docs/Examples/QCALC/cutoff_3_frame_40_truncated.inp created.\n",
      "CPU times: user 537 ms, sys: 29.8 ms, total: 566 ms\n",
      "Wall time: 2.06 s\n"
     ]
    }
   ],
   "source": [
    "%%time\n",
    "\n",
    "qm_method = QM_Method(\n",
    "    basis_set='6-31G*', \n",
    "    functional='wB97X-D3', \n",
    "    qm_input='OPT FREQ', \n",
    "    program='orca'\n",
    ")\n",
    "\n",
    "for frame in range(0, 50, 10):\n",
    "    print('\\n====================================')\n",
    "    print(f'             Frame {frame}')\n",
    "    print('====================================')\n",
    "    m = GenerateModel(PQR, DCD, frame=frame)\n",
    "    m.set_catalytic_center('resid 263')\n",
    "    m.set_region(selection=DistanceCutoff, cutoff=3)\n",
    "    m.cutoff_3.rename(f'{m.cutoff_3.name}_frame_{frame}')\n",
    "    m.truncate_region(region=m.regions[-1])\n",
    "    c_alpha_atoms = m.regions[-1].get_atoms(attribute='name', value='CA')\n",
    "    m.regions[-1].set_fixed_atoms(atoms=c_alpha_atoms)\n",
    "    qm_method.assign_to_region(region=m.regions[-1])\n",
    "    m.write_input()"
   ]
  },
  {
   "cell_type": "code",
   "execution_count": 4,
   "id": "6ea5dc27-a7ce-4cc2-867a-77fd63e8a190",
   "metadata": {},
   "outputs": [
    {
     "name": "stdout",
     "output_type": "stream",
     "text": [
      "\n",
      "====================================\n",
      "             Frame 0\n",
      "====================================\n",
      "\n",
      "Calculating total charge for QMzymeRegion qm_region based on charges read from topology attribute 'charge'...\n",
      "QMzymeRegion qm_region has a total charge of -1.\n",
      "\n",
      "WARNING: Region overlap detected. The following residue(s) were found in both regions: [<QMzymeResidue resname: EQU, resid: 263, chain: X>].\n",
      "Removing duplicate atoms and recalculating charge for calculation.\n",
      "The original region cutoff_8_frame_0_truncated can still be accessed in the GenerateModel object.\n",
      "\n",
      "Calculating total charge for QMzymeRegion  based on charges read from topology attribute 'charge'...\n",
      "QMzymeRegion  has a total charge of -1.\n",
      "File /Users/hrk/git/QMzyme-documentation/docs/Examples/QCALC/qm_region_cutoff_8_frame_0_truncated.inp created.\n",
      "\n",
      "====================================\n",
      "             Frame 10\n",
      "====================================\n",
      "\n",
      "Calculating total charge for QMzymeRegion qm_region based on charges read from topology attribute 'charge'...\n",
      "QMzymeRegion qm_region has a total charge of -1.\n",
      "\n",
      "WARNING: Region overlap detected. The following residue(s) were found in both regions: [<QMzymeResidue resname: EQU, resid: 263, chain: X>].\n",
      "Removing duplicate atoms and recalculating charge for calculation.\n",
      "The original region cutoff_8_frame_10_truncated can still be accessed in the GenerateModel object.\n",
      "\n",
      "Calculating total charge for QMzymeRegion  based on charges read from topology attribute 'charge'...\n",
      "QMzymeRegion  has a total charge of -1.\n",
      "File /Users/hrk/git/QMzyme-documentation/docs/Examples/QCALC/qm_region_cutoff_8_frame_10_truncated.inp created.\n",
      "\n",
      "====================================\n",
      "             Frame 20\n",
      "====================================\n",
      "\n",
      "Calculating total charge for QMzymeRegion qm_region based on charges read from topology attribute 'charge'...\n",
      "QMzymeRegion qm_region has a total charge of -1.\n",
      "\n",
      "WARNING: Region overlap detected. The following residue(s) were found in both regions: [<QMzymeResidue resname: EQU, resid: 263, chain: X>].\n",
      "Removing duplicate atoms and recalculating charge for calculation.\n",
      "The original region cutoff_8_frame_20_truncated can still be accessed in the GenerateModel object.\n",
      "\n",
      "Calculating total charge for QMzymeRegion  based on charges read from topology attribute 'charge'...\n",
      "QMzymeRegion  has a total charge of -1.\n",
      "File /Users/hrk/git/QMzyme-documentation/docs/Examples/QCALC/qm_region_cutoff_8_frame_20_truncated.inp created.\n",
      "\n",
      "====================================\n",
      "             Frame 30\n",
      "====================================\n",
      "\n",
      "Calculating total charge for QMzymeRegion qm_region based on charges read from topology attribute 'charge'...\n",
      "QMzymeRegion qm_region has a total charge of -1.\n",
      "\n",
      "WARNING: Region overlap detected. The following residue(s) were found in both regions: [<QMzymeResidue resname: EQU, resid: 263, chain: X>].\n",
      "Removing duplicate atoms and recalculating charge for calculation.\n",
      "The original region cutoff_8_frame_30_truncated can still be accessed in the GenerateModel object.\n",
      "\n",
      "Calculating total charge for QMzymeRegion  based on charges read from topology attribute 'charge'...\n",
      "QMzymeRegion  has a total charge of 0.\n",
      "File /Users/hrk/git/QMzyme-documentation/docs/Examples/QCALC/qm_region_cutoff_8_frame_30_truncated.inp created.\n",
      "\n",
      "====================================\n",
      "             Frame 40\n",
      "====================================\n",
      "\n",
      "Calculating total charge for QMzymeRegion qm_region based on charges read from topology attribute 'charge'...\n",
      "QMzymeRegion qm_region has a total charge of -1.\n",
      "\n",
      "WARNING: Region overlap detected. The following residue(s) were found in both regions: [<QMzymeResidue resname: EQU, resid: 263, chain: X>].\n",
      "Removing duplicate atoms and recalculating charge for calculation.\n",
      "The original region cutoff_8_frame_40_truncated can still be accessed in the GenerateModel object.\n",
      "\n",
      "Calculating total charge for QMzymeRegion  based on charges read from topology attribute 'charge'...\n",
      "QMzymeRegion  has a total charge of 1.\n",
      "File /Users/hrk/git/QMzyme-documentation/docs/Examples/QCALC/qm_region_cutoff_8_frame_40_truncated.inp created.\n",
      "CPU times: user 9.13 s, sys: 54.7 ms, total: 9.19 s\n",
      "Wall time: 10.8 s\n"
     ]
    }
   ],
   "source": [
    "%%time\n",
    "\n",
    "qm_method = QM_Method(\n",
    "    basis_set='6-31+G*', \n",
    "    functional='wB97X-D3', \n",
    "    qm_input='OPT FREQ', \n",
    "    program='orca'\n",
    ")\n",
    "\n",
    "xtb_method = XTB_Method()\n",
    "\n",
    "for frame in range(0, 50, 10):\n",
    "    print('\\n====================================')\n",
    "    print(f'             Frame {frame}')\n",
    "    print('====================================')\n",
    "    m = GenerateModel(PQR, DCD, frame=frame)\n",
    "    m.set_catalytic_center('resid 263')\n",
    "    m.set_region(name='qm_region', selection='resid 263 or resid 103')\n",
    "    m.set_region(selection=DistanceCutoff, cutoff=8)\n",
    "    m.cutoff_8.rename(f'{m.cutoff_8.name}_frame_{frame}')\n",
    "    m.truncate_region(region=m.regions[-1])\n",
    "    qm_method.assign_to_region(region=m.qm_region)\n",
    "    xtb_method.assign_to_region(region=m.regions[-1])\n",
    "    m.write_input()"
   ]
  },
  {
   "cell_type": "code",
   "execution_count": null,
   "id": "0fb6236d-62a6-4401-92b9-b7be7b4caf7a",
   "metadata": {},
   "outputs": [],
   "source": []
  }
 ],
 "metadata": {
  "kernelspec": {
   "display_name": "Python 3 (ipykernel)",
   "language": "python",
   "name": "python3"
  },
  "language_info": {
   "codemirror_mode": {
    "name": "ipython",
    "version": 3
   },
   "file_extension": ".py",
   "mimetype": "text/x-python",
   "name": "python",
   "nbconvert_exporter": "python",
   "pygments_lexer": "ipython3",
   "version": "3.11.7"
  }
 },
 "nbformat": 4,
 "nbformat_minor": 5
}
