{
 "cells": [
  {
   "cell_type": "markdown",
   "id": "eeb34606-2a79-44a4-80a5-400ac4d275a0",
   "metadata": {},
   "source": [
    "# Contributing to QMzyme"
   ]
  },
  {
   "cell_type": "markdown",
   "id": "ff0d65d1-c185-48bb-adcd-df3082b5f924",
   "metadata": {},
   "source": [
    "### Steps:\n",
    "\n",
    "Fork repository\n",
    "\n",
    "Make changes\n",
    "\n",
    "Test changes\n",
    "\n",
    "Push changes \n",
    "\n",
    "Create pull request"
   ]
  },
  {
   "cell_type": "markdown",
   "id": "1dd67f3e-669f-4915-b2ed-9c24667ddd66",
   "metadata": {},
   "source": [
    "# Fork repository\n",
    "\n",
    "See https://docs.github.com/en/pull-requests/collaborating-with-pull-requests/working-with-forks/fork-a-repo for more information on forking repositories.\n",
    "\n",
    "Visit https://github.com/hklem/QMzyme.\n",
    "\n",
    "On the top right of the page, click `Fork` > `create a new fork` (fill in details) > `Create fork`.\n"
   ]
  },
  {
   "cell_type": "markdown",
   "id": "e2a97a65-3808-48cc-8bdf-d06a290f1b2f",
   "metadata": {},
   "source": [
    "# Make changes\n",
    "\n",
    "Make sure to include docstrings and comments. The easier the code is to read, the more likely the changes are to be accepted.\n",
    "\n",
    "Some modules, such as `SelectionSchemes.py` and `TruncationSchemes.py` are accompanied by abstract classes under the same name that prescribe how additional schemes should be constructed. To better understand abstract classes and methods, see https://docs.python.org/3/library/abc.html."
   ]
  },
  {
   "cell_type": "markdown",
   "id": "d0962edd-5bf2-4ab8-9710-96057dc1a8d0",
   "metadata": {},
   "source": [
    "# Test changes\n",
    "\n",
    "If you are adding or changing code functionality, you will also be asked to implement tests before the pull request is accepted and merged. The tests are located in the `/tests/` directory. If you modified an existing module, find the corresponding `test_MODULENAME.py` file and add one or more tests there. "
   ]
  },
  {
   "cell_type": "code",
   "execution_count": null,
   "id": "a68f1030-5f90-4525-84ef-d6ba3d4d430c",
   "metadata": {},
   "outputs": [],
   "source": []
  }
 ],
 "metadata": {
  "kernelspec": {
   "display_name": "Python 3 (ipykernel)",
   "language": "python",
   "name": "python3"
  },
  "language_info": {
   "codemirror_mode": {
    "name": "ipython",
    "version": 3
   },
   "file_extension": ".py",
   "mimetype": "text/x-python",
   "name": "python",
   "nbconvert_exporter": "python",
   "pygments_lexer": "ipython3",
   "version": "3.11.7"
  }
 },
 "nbformat": 4,
 "nbformat_minor": 5
}
