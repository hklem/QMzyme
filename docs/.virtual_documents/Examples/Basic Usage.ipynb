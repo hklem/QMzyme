


import QMzyme


pdb = "1oh0_equ_xstal.pdb"
xstal_model = QMzyme.GenerateModel(pdb, name="Crystal")


xstal_model.set_catalytic_center('resid 263')


xstal_model.selection_scheme("distance_cutoff", cutoff=5)


xstal_model.regions


xstal_model.truncate_region(xstal_model.cutoff_5)


xstal_model.regions


from QMzyme.CalculateModel import CalculateModel


pdb = "1oh0_equ_xstal.pdb"
xstal_model = QMzyme.GenerateModel(pdb, name="Crystal")








pdb = "1oh0_equ_xstal.pdb"
xstal_model = QMzyme.GenerateModel(pdb, name="Crystal")





top = "1oh0_equ.equilib2.stripped.pdb"
crd = "1oh0_equ.equilib2.stripped.dcd"
mm_model = QMzyme.GenerateModel(top, crd, name="Equilibrated")





equ_ligand = 'resid 263'

xstal_model.set_catalytic_center(equ_ligand)
mm_model.set_catalytic_center(equ_ligand)





xstal_model.selection_scheme(selection_scheme='distance_cutoff', cutoff=3)
mm_model.selection_scheme(selection_scheme='distance_cutoff', cutoff=3)

print("Crystal model:", xstal_model.cutoff_3)
print("MM model:", mm_model.cutoff_3)


angstrom = "Å"

for model in [xstal_model, mm_model]:
    print(f"Residues within 3 {angstrom} of EQU in the {model.name} coordinates:")
    wat_count = 0
    AA_count = 0
    for res in model.cutoff_3.residues:
        if res.resname == 'WAT':
            wat_count += 1
            continue
        AA_count += 1
        print(f"\t{res.resname} {res.resid}")
    print(f"\tAmino acid: {AA_count}")
    print(f"\tWater count: {wat_count}\n")






xstal_model.truncate_region(xstal_model.cutoff_3)
mm_model.truncate_region(mm_model.cutoff_3)


xstal_model.regions


mm_model.regions








from QMzyme.CalculateModel import QM_Region


for model in [xstal_model, mm_model]:
    # set some fixed atoms
    CA_ids = model.cutoff_3_truncated.get_ids('name', 'CA')
    model.cutoff_3_truncated.set_fixed_atoms(CA_ids)
    qm_only = QM_Region(layer='QM', region=model.cutoff_3_truncated)
    qm_only.set_basis_set('6-31g(d)')
    qm_only.set_functional('wb97x-d')
    qm_only.set_charge(0) #placeholder
    qm_only.set_multiplicity(1) #placeholder
    qm_only.write_qm_input(program='orca')



