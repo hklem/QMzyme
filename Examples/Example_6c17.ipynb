{
 "cells": [
  {
   "cell_type": "markdown",
   "id": "2b13c53e",
   "metadata": {},
   "source": [
    "# Import package"
   ]
  },
  {
   "cell_type": "code",
   "execution_count": 1,
   "id": "85fa0506",
   "metadata": {},
   "outputs": [],
   "source": [
    "import QMzyme\n",
    "import QMzyme.utils"
   ]
  },
  {
   "cell_type": "code",
   "execution_count": 2,
   "id": "46160851",
   "metadata": {},
   "outputs": [
    {
     "name": "stdout",
     "output_type": "stream",
     "text": [
      "Help on class GenerateModel in module QMzyme.generate:\n",
      "\n",
      "class GenerateModel(builtins.object)\n",
      " |  GenerateModel(calculation='QM-only', protein_file=None, pdb_code=None)\n",
      " |  \n",
      " |  Methods defined here:\n",
      " |  \n",
      " |  __init__(self, calculation='QM-only', protein_file=None, pdb_code=None)\n",
      " |      Initialize QMzyme model. \n",
      " |      calculation        - string defining the type of calculation this \n",
      " |                  model will be used for. Only option currently is \n",
      " |                  'QM-only'. 'QM/MM' will be supported in the near future. \n",
      " |      protein_file        - string defining the protein or system .pdb \n",
      " |                  file. This can be preprocessed, or a fresh download \n",
      " |                  from rcsb.org. \n",
      " |      pdb_code        - string defining the PDB ID code. This option is \n",
      " |                  required if you do not currently have a protein pdb \n",
      " |                  file for your system of interest. Defining the\n",
      " |                  4-letter PDB code here will automatically download \n",
      " |                  it from the Protein Data Bank. It is highly recommended \n",
      " |                  that you double check the downloaded file and become \n",
      " |                  acquainted with it.\n",
      " |  \n",
      " |  active_site(self, distance_cutoff=0, include_residues=[], output_file=None, save_file=True, solvent=['HOH', 'WAT', 'T3P', 'SOL'], intermediate_mol=None, center=None)\n",
      " |      Function that selects all residues that have at least \n",
      " |      one atom within the cutoff distance from the predefined catalytic \n",
      " |      center atoms. If there are residues you want to include that may \n",
      " |      not be within the distance cutoff you can specify that in \n",
      " |      include_residues=[].\n",
      " |      distance_cutoff        - integer\n",
      " |      include_residues    - list of a tuple of strings:\n",
      " |                  (str(chain),str(res_name),int(res_number)). \n",
      " |                  I.e., include_residues=[('A','GLY',101),('A','ASP',20)].\n",
      " |                  It follows the define_residue() format.\n",
      " |      output_file        - string defining the .pdb output file name.\n",
      " |      intermediate_mol    - rdkit mol object to be used instead of the \n",
      " |          protein mol that was created during model initialization. This is\n",
      " |          useful if, for example, you are creating multiple active sites \n",
      " |          from the same initial PDB with varying cutoff distances, in \n",
      " |          which case the intermediate_mol object must have been generated\n",
      " |          with a larger cutoff distance than what is currently specified.\n",
      " |      center        - (Work in progress) string defining the .pdb file \n",
      " |          of your catalytic center. Default is None. This is helpful to \n",
      " |          use if you want to alter the ligand in any way, for example, \n",
      " |          add hydrogens to certain atoms. Please not the coordinates of \n",
      " |          the molecule need to be consistent with the coordinates of \n",
      " |          the protein.\n",
      " |      \n",
      " |      Generates active_site_mol attribute, and creates .pdb file.\n",
      " |  \n",
      " |  catalytic_center(self, res_name=None, res_number=None, chain=None, output_file=None, save_file=True, verbose=True)\n",
      " |      Function to define the center of the QMzyme model. This is \n",
      " |      typically the ligand/substrate. Currently only supports the \n",
      " |      definition of 1 residue (i.e., lengths of res_name,     \n",
      " |      res_number, and chain inputs must not exceed 1. Future \n",
      " |      versions will adapt for this functionality. If you wish to \n",
      " |      use multiple residues right now you can bypass this by\n",
      " |      manipulating the PDB file: for example, change the residue\n",
      " |      names to LIG for all residues you want in the catalytic center,\n",
      " |      and set res_name='LIG'.)\n",
      " |      res_name        - string of the three-letter residue name.\n",
      " |      res_number        - integer of the residue number.\n",
      " |      chain            - string of the chain the residue of interest is in.\n",
      " |      output_file        - string to define the name of the output .pdb file.\n",
      " |                  Generates the following attributes of the class object: a \n",
      " |                  catalytic_center_mol rdkit mol object, catalytic_center_definition, \n",
      " |                  and creates a .pdb file containing onlt the catalytic center atoms.\n",
      " |  \n",
      " |  protonate_solvent(self, mol=None, solvent=['HOH', 'WAT', 'T3P', 'SOL'])\n",
      " |      Function to add hydrogens to water molecules because reduce does not\n",
      " |      recognize all water residue names. I found that for some weird \n",
      " |      reason you cannot do rdkit's Chem.rdmolops.AddHs and include \n",
      " |      PDB residue information when Hs are already present, so we can't\n",
      " |      simply add Hs to the relevant water oxygen atoms because then\n",
      " |      the PDB information cannot be included if any other Hs are present\n",
      " |      in the structure. To avoid that situation, this function separates\n",
      " |      water molecules from the mol object, protonates them, adds coordinate\n",
      " |      information back, and then combines with final mol object. Note: if \n",
      " |      any solvent molecules already have bound H, they will be skipped. \n",
      " |      \n",
      " |      mol : rdkit mol object, must be defined.\n",
      " |      solvent : List of strings containing names of solvent residues in PDB.\n",
      " |          default is solvent=['HOH','WAT','T3P','SOL'] \n",
      " |      \n",
      " |      Returns mol object.\n",
      " |  \n",
      " |  truncate(self, scheme='CA_terminal', output_file=None, skip_res_names=['HOH', 'WAT', 'T3P', 'SOL'], skip_res_numbers=[], remove_res_numbers=[], remove_atom_ids=[], remove_sidechains=[], keep_backbones=[], constrain_atoms=['CA'], add_hydrogens=False, exclude_solvent=False, save_file=True)\n",
      " |      Function to prepare truncated QMzyme model.\n",
      " |      scheme            - string to define what truncation scheme to use.\n",
      " |                  Currently only option is 'CA_terminal'. This will remove \n",
      " |                  backbone atoms of residues that are not bondedto other \n",
      " |                  residues. I.e., if you have the following residues in \n",
      " |                  the active site (ALA120, GLY121, ASP200), the N-terminus \n",
      " |                  of ALA120 will be removed, the C-terminus of GLY121 will \n",
      " |                  be removed, and both termini will be removed from ASP \n",
      " |                  200 like a typical methyl-capping scheme. \n",
      " |      output_file         - string to define the output .pdb file name. \n",
      " |      skip_res_names        - list containing strings of residue names you \n",
      " |                  do not want to truncate at all.\n",
      " |      skip_res_numbers     - list containing integers of residue numbers you\n",
      " |                  do not want to truncate.\n",
      " |      remove_res_numbers    - list containing integers of residue numbers you\n",
      " |                  want completely removed from the model.\n",
      " |      remove_atom_ids        - list containing integers of atom IDs you want\n",
      " |                  completed removed from the model.\n",
      " |      remove_sidechains    - list containing strings of residue names you\n",
      " |                  want the sidechains removed of. This can be useful if its \n",
      " |                  a bulky residue pointing away from the active site, and  \n",
      " |                  only its backbone is important to consider in the model. \n",
      " |      keep_backbones        - list containing strings of residue names that\n",
      " |                  you want to keep backbone atoms of, regardless of the \n",
      " |                  capping scheme.\n",
      " |      constrain_atoms        - list containing strings of the atom names \n",
      " |                  (according to PDB format) that you want to constrain in the \n",
      " |                  calculation. \n",
      " |      add_hydrogens        - boolean, default=False. If True, hydrogens will\n",
      " |                  be added to your model with the reduce package. \n",
      " |                  Recommdended if you started with a .pdb file that did not \n",
      " |                  contain hydrogens, but you should still evaluate the \n",
      " |                  final structure.\n",
      " |      exclude_solvent        - boolean, default=False. If True, solvent \n",
      " |                  molecules will be removed from the model.\n",
      " |      \n",
      " |      Generates the truncated_active_site_mol and constrain_atom_list\n",
      " |      attributes, and saves new .pdb file.\n",
      " |  \n",
      " |  ----------------------------------------------------------------------\n",
      " |  Data descriptors defined here:\n",
      " |  \n",
      " |  __dict__\n",
      " |      dictionary for instance variables (if defined)\n",
      " |  \n",
      " |  __weakref__\n",
      " |      list of weak references to the object (if defined)\n",
      "\n"
     ]
    }
   ],
   "source": [
    "help(QMzyme.GenerateModel)"
   ]
  },
  {
   "cell_type": "markdown",
   "id": "9cd837a7",
   "metadata": {},
   "source": [
    "# Generate model"
   ]
  },
  {
   "cell_type": "code",
   "execution_count": 3,
   "id": "c344826f",
   "metadata": {},
   "outputs": [
    {
     "name": "stdout",
     "output_type": "stream",
     "text": [
      "Catalytic center contains 16 atoms \n",
      ".Structure saved as 6C17_catalytic_center_DNX.pdb\n",
      "\n",
      "Active site contains 320 atoms.\n",
      "Structure saved as 6C17_catalytic_center_DNX_active_site_distance_cutoff_5.pdb\n",
      "CPU times: user 11.8 s, sys: 104 ms, total: 11.9 s\n",
      "Wall time: 11.9 s\n"
     ]
    }
   ],
   "source": [
    "%%time\n",
    "\n",
    "ksi_model = QMzyme.GenerateModel(protein_file='6C17.pdb')\n",
    "#QMzyme.utils.check_pdb('6C17.pdb')\n",
    "ksi_model.catalytic_center(res_name='DNX')\n",
    "ksi_model.active_site(distance_cutoff=5)"
   ]
  },
  {
   "cell_type": "code",
   "execution_count": 4,
   "id": "310c6973",
   "metadata": {},
   "outputs": [
    {
     "name": "stdout",
     "output_type": "stream",
     "text": [
      "[]\n",
      "Final active site model contains 288 atoms.\n",
      "Structure saved as 6C17_catalytic_center_DNX_truncated_active_site_distance_cutoff_5.pdb\n"
     ]
    }
   ],
   "source": [
    "ksi_model.truncate()"
   ]
  },
  {
   "cell_type": "code",
   "execution_count": 6,
   "id": "d3b866d2",
   "metadata": {},
   "outputs": [
    {
     "data": {
      "text/plain": [
       "[{'res_name': 'TYR', 'res_number': 16, 'chain': 'A'},\n",
       " {'res_name': 'VAL', 'res_number': 20, 'chain': 'A'},\n",
       " {'res_name': 'ASN', 'res_number': 40, 'chain': 'A'},\n",
       " {'res_name': 'PHE', 'res_number': 56, 'chain': 'A'},\n",
       " {'res_name': 'TYR', 'res_number': 57, 'chain': 'A'},\n",
       " {'res_name': 'GLY', 'res_number': 60, 'chain': 'A'},\n",
       " {'res_name': 'LEU', 'res_number': 61, 'chain': 'A'},\n",
       " {'res_name': 'VAL', 'res_number': 66, 'chain': 'A'},\n",
       " {'res_name': 'PHE', 'res_number': 86, 'chain': 'A'},\n",
       " {'res_name': 'VAL', 'res_number': 88, 'chain': 'A'},\n",
       " {'res_name': 'MET', 'res_number': 90, 'chain': 'A'},\n",
       " {'res_name': 'LEU', 'res_number': 99, 'chain': 'A'},\n",
       " {'res_name': 'VAL', 'res_number': 101, 'chain': 'A'},\n",
       " {'res_name': 'ASP', 'res_number': 103, 'chain': 'A'},\n",
       " {'res_name': 'MET', 'res_number': 105, 'chain': 'A'},\n",
       " {'res_name': 'MET', 'res_number': 116, 'chain': 'A'},\n",
       " {'res_name': 'ALA', 'res_number': 118, 'chain': 'A'},\n",
       " {'res_name': 'TRP', 'res_number': 120, 'chain': 'A'},\n",
       " {'res_name': 'DNX', 'res_number': 202, 'chain': 'A'},\n",
       " {'res_name': 'HOH', 'res_number': 367, 'chain': 'A'},\n",
       " {'res_name': 'HOH', 'res_number': 404, 'chain': 'A'}]"
      ]
     },
     "execution_count": 6,
     "metadata": {},
     "output_type": "execute_result"
    }
   ],
   "source": [
    "ksi_model.model_residues"
   ]
  },
  {
   "cell_type": "code",
   "execution_count": null,
   "id": "6b5a865a",
   "metadata": {},
   "outputs": [],
   "source": []
  }
 ],
 "metadata": {
  "kernelspec": {
   "display_name": "Python 3 (ipykernel)",
   "language": "python",
   "name": "python3"
  },
  "language_info": {
   "codemirror_mode": {
    "name": "ipython",
    "version": 3
   },
   "file_extension": ".py",
   "mimetype": "text/x-python",
   "name": "python",
   "nbconvert_exporter": "python",
   "pygments_lexer": "ipython3",
   "version": "3.11.0"
  }
 },
 "nbformat": 4,
 "nbformat_minor": 5
}
