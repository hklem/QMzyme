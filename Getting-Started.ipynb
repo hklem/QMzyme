{
 "cells": [
  {
   "cell_type": "markdown",
   "id": "25e8f47b",
   "metadata": {},
   "source": [
    "# Getting Started"
   ]
  },
  {
   "cell_type": "code",
   "execution_count": 1,
   "id": "f6862620",
   "metadata": {},
   "outputs": [],
   "source": [
    "import QMzyme\n",
    "from importlib_resources import files, as_file"
   ]
  },
  {
   "cell_type": "markdown",
   "id": "9df1409b",
   "metadata": {},
   "source": [
    "## Step 1. QMzyme object instance creation"
   ]
  },
  {
   "cell_type": "code",
   "execution_count": 2,
   "id": "4d6eb647",
   "metadata": {},
   "outputs": [],
   "source": [
    "pdb_file = str(files('QMzyme.data').joinpath('1oh0_equ_from_amber_sim.pdb'))\n",
    "ksi = QMzyme.GenerateModel(pdb_file, id='1oh0_crystal')"
   ]
  },
  {
   "cell_type": "markdown",
   "id": "60c25bca",
   "metadata": {},
   "source": [
    "## Step 2. Catalytic center definition"
   ]
  },
  {
   "cell_type": "code",
   "execution_count": 3,
   "id": "243a16a0",
   "metadata": {},
   "outputs": [],
   "source": [
    "ksi.set_catalytic_center(resname='EQU', resnumber=263) "
   ]
  },
  {
   "cell_type": "markdown",
   "id": "a99f7885",
   "metadata": {},
   "source": [
    "## Step 3. Residue selection"
   ]
  },
  {
   "cell_type": "markdown",
   "id": "910e4558",
   "metadata": {},
   "source": [
    "#### You must define some cutoff distance in Å. Any residue with at least one atom within this distance of at least one atom of the catalytic center will be included in the subsystem."
   ]
  },
  {
   "cell_type": "code",
   "execution_count": 4,
   "id": "684aea39",
   "metadata": {},
   "outputs": [
    {
     "ename": "ModuleNotFoundError",
     "evalue": "No module named 'QMzyme.Biopython.kdtrees'",
     "output_type": "error",
     "traceback": [
      "\u001b[0;31m---------------------------------------------------------------------------\u001b[0m",
      "\u001b[0;31mModuleNotFoundError\u001b[0m                       Traceback (most recent call last)",
      "Cell \u001b[0;32mIn[4], line 1\u001b[0m\n\u001b[0;32m----> 1\u001b[0m \u001b[43mksi\u001b[49m\u001b[38;5;241;43m.\u001b[39;49m\u001b[43mwithin_distance\u001b[49m\u001b[43m(\u001b[49m\u001b[43mdistance_cutoff\u001b[49m\u001b[38;5;241;43m=\u001b[39;49m\u001b[38;5;241;43m5\u001b[39;49m\u001b[43m)\u001b[49m\n",
      "File \u001b[0;32m~/git/QMzyme/QMzyme/generate.py:174\u001b[0m, in \u001b[0;36mGenerateModel.within_distance\u001b[0;34m(self, distance_cutoff, store_model)\u001b[0m\n\u001b[1;32m    172\u001b[0m     \u001b[38;5;28;01mfor\u001b[39;00m atom \u001b[38;5;129;01min\u001b[39;00m res\u001b[38;5;241m.\u001b[39mget_atoms():\n\u001b[1;32m    173\u001b[0m         center_coords\u001b[38;5;241m.\u001b[39mappend(atom\u001b[38;5;241m.\u001b[39mget_coord())\n\u001b[0;32m--> 174\u001b[0m neighbors \u001b[38;5;241m=\u001b[39m \u001b[43mBiopythonWrapper\u001b[49m\u001b[38;5;241;43m.\u001b[39;49m\u001b[43mget_neighbors\u001b[49m\u001b[43m(\u001b[49m\u001b[38;5;28;43mself\u001b[39;49m\u001b[38;5;241;43m.\u001b[39;49m\u001b[43mbase\u001b[49m\u001b[43m,\u001b[49m\u001b[43m \u001b[49m\u001b[43mcenter_coords\u001b[49m\u001b[43m,\u001b[49m\u001b[43m \u001b[49m\u001b[43mdistance_cutoff\u001b[49m\u001b[43m)\u001b[49m\n\u001b[1;32m    175\u001b[0m residues \u001b[38;5;241m=\u001b[39m [atom\u001b[38;5;241m.\u001b[39mget_parent() \u001b[38;5;28;01mfor\u001b[39;00m atom \u001b[38;5;129;01min\u001b[39;00m neighbors]\n\u001b[1;32m    176\u001b[0m residues \u001b[38;5;241m=\u001b[39m \u001b[38;5;28mlist\u001b[39m(\u001b[38;5;28mset\u001b[39m(residues))\n",
      "File \u001b[0;32m~/git/QMzyme/QMzyme/BiopythonWrapper.py:113\u001b[0m, in \u001b[0;36mget_neighbors\u001b[0;34m(entity, coords, cutoff)\u001b[0m\n\u001b[1;32m    110\u001b[0m \u001b[38;5;28;01mdef\u001b[39;00m \u001b[38;5;21mget_neighbors\u001b[39m(entity, coords: [\u001b[38;5;28mlist\u001b[39m], cutoff):\n\u001b[1;32m    111\u001b[0m     \u001b[38;5;66;03m#return will be one list of all atoms that were within cutoff\u001b[39;00m\n\u001b[1;32m    112\u001b[0m     neighbors \u001b[38;5;241m=\u001b[39m []\n\u001b[0;32m--> 113\u001b[0m     neighbor_search \u001b[38;5;241m=\u001b[39m \u001b[43mNeighborSearch\u001b[49m\u001b[43m(\u001b[49m\u001b[38;5;28;43mlist\u001b[39;49m\u001b[43m(\u001b[49m\u001b[43mentity\u001b[49m\u001b[38;5;241;43m.\u001b[39;49m\u001b[43mget_atoms\u001b[49m\u001b[43m(\u001b[49m\u001b[43m)\u001b[49m\u001b[43m)\u001b[49m\u001b[43m)\u001b[49m\n\u001b[1;32m    114\u001b[0m     \u001b[38;5;28;01mif\u001b[39;00m \u001b[38;5;28mlen\u001b[39m(np\u001b[38;5;241m.\u001b[39mshape(coords)) \u001b[38;5;241m==\u001b[39m \u001b[38;5;241m1\u001b[39m:\n\u001b[1;32m    115\u001b[0m         coords \u001b[38;5;241m=\u001b[39m [coords]\n",
      "File \u001b[0;32m~/git/QMzyme/QMzyme/Biopython/NeighborSearch.py:40\u001b[0m, in \u001b[0;36mNeighborSearch.__init__\u001b[0;34m(self, atom_list, bucket_size)\u001b[0m\n\u001b[1;32m     30\u001b[0m \u001b[38;5;28;01mdef\u001b[39;00m \u001b[38;5;21m__init__\u001b[39m(\u001b[38;5;28mself\u001b[39m, atom_list, bucket_size\u001b[38;5;241m=\u001b[39m\u001b[38;5;241m10\u001b[39m):\n\u001b[1;32m     31\u001b[0m \u001b[38;5;250m    \u001b[39m\u001b[38;5;124;03m\"\"\"Create the object.\u001b[39;00m\n\u001b[1;32m     32\u001b[0m \n\u001b[1;32m     33\u001b[0m \u001b[38;5;124;03m    Arguments:\u001b[39;00m\n\u001b[0;32m   (...)\u001b[0m\n\u001b[1;32m     38\u001b[0m \n\u001b[1;32m     39\u001b[0m \u001b[38;5;124;03m    \"\"\"\u001b[39;00m\n\u001b[0;32m---> 40\u001b[0m     \u001b[38;5;28;01mfrom\u001b[39;00m \u001b[38;5;21;01mQMzyme\u001b[39;00m\u001b[38;5;21;01m.\u001b[39;00m\u001b[38;5;21;01mBiopython\u001b[39;00m\u001b[38;5;21;01m.\u001b[39;00m\u001b[38;5;21;01mkdtrees\u001b[39;00m \u001b[38;5;28;01mimport\u001b[39;00m KDTree\n\u001b[1;32m     42\u001b[0m     \u001b[38;5;28mself\u001b[39m\u001b[38;5;241m.\u001b[39matom_list \u001b[38;5;241m=\u001b[39m atom_list\n\u001b[1;32m     43\u001b[0m     \u001b[38;5;66;03m# get the coordinates\u001b[39;00m\n",
      "\u001b[0;31mModuleNotFoundError\u001b[0m: No module named 'QMzyme.Biopython.kdtrees'"
     ]
    }
   ],
   "source": [
    "ksi.within_distance(distance_cutoff=5)"
   ]
  },
  {
   "cell_type": "markdown",
   "id": "f8b2766a",
   "metadata": {},
   "source": [
    "## Step 4. Model truncation"
   ]
  },
  {
   "cell_type": "code",
   "execution_count": 5,
   "id": "ff8a8ecc",
   "metadata": {},
   "outputs": [],
   "source": [
    "ksi.truncate()"
   ]
  },
  {
   "cell_type": "markdown",
   "id": "6c2d710c",
   "metadata": {},
   "source": [
    "## Step 5. QM input generation"
   ]
  },
  {
   "cell_type": "code",
   "execution_count": 6,
   "id": "c81d1f5b",
   "metadata": {},
   "outputs": [
    {
     "name": "stdout",
     "output_type": "stream",
     "text": [
      "File 1oh0_crystal_1.pdb created.\n",
      "AQME v 1.5.2 2024/04/16 14:06:13 \n",
      "Citation: AQME v 1.5.2, Alegre-Requena, J. V.; Sowndarya, S.; Perez-Soto, R.; Alturaifi, T.; Paton, R. AQME: Automated Quantum Mechanical Environments for Researchers and Educators. Wiley Interdiscip. Rev. Comput. Mol. Sci. 2023, DOI: 10.1002/wcms.1663.\n",
      "\n",
      "\n",
      "o  1oh0_crystal_1 successfully processed at /Users/hrk/git/QMzyme/Tutorials/QCALC\n",
      "\n",
      "\n",
      "Time QPREP: 0.11 seconds\n",
      "\n",
      "\n"
     ]
    }
   ],
   "source": [
    "ksi.calculateQM(model=None, functional='wb97xd', \n",
    "                basis_set='6-31g(d)', opt=True, freq=True, freeze_atoms = ['CA'], \n",
    "                charge = -2, mult = 1, mem='32GB', \n",
    "                nprocs=16, program='gaussian')"
   ]
  },
  {
   "cell_type": "markdown",
   "id": "43d63de2",
   "metadata": {},
   "source": [
    "## Step 6. Store information in JSON file"
   ]
  },
  {
   "cell_type": "code",
   "execution_count": 7,
   "id": "cefa3f3a",
   "metadata": {},
   "outputs": [],
   "source": [
    "ksi.write_json()"
   ]
  },
  {
   "cell_type": "code",
   "execution_count": 8,
   "id": "9fa663a9",
   "metadata": {},
   "outputs": [],
   "source": [
    "import json \n",
    "with open(f'{ksi.id}.json') as j:\n",
    "    model_info = json.load(j)"
   ]
  },
  {
   "cell_type": "code",
   "execution_count": 9,
   "id": "dc4857bf",
   "metadata": {},
   "outputs": [
    {
     "data": {
      "text/plain": [
       "dict_keys(['Model 1', 'Original structure', 'QMzyme_calls', 'Structure file', 'id'])"
      ]
     },
     "execution_count": 9,
     "metadata": {},
     "output_type": "execute_result"
    }
   ],
   "source": [
    "model_info.keys()"
   ]
  },
  {
   "cell_type": "code",
   "execution_count": 10,
   "id": "3a15caa5",
   "metadata": {},
   "outputs": [
    {
     "data": {
      "text/plain": [
       "dict_keys(['Residues', '_id', 'calculations', 'charge', 'full_id', 'method', 'multiplicity'])"
      ]
     },
     "execution_count": 10,
     "metadata": {},
     "output_type": "execute_result"
    }
   ],
   "source": [
    "model_info['Model 1'].keys()"
   ]
  },
  {
   "cell_type": "code",
   "execution_count": 11,
   "id": "8044c10d",
   "metadata": {},
   "outputs": [
    {
     "data": {
      "text/plain": [
       "{'catalytic_center': ['EQU263'], 'cutoff': 5, 'type': 'within_distance'}"
      ]
     },
     "execution_count": 11,
     "metadata": {},
     "output_type": "execute_result"
    }
   ],
   "source": [
    "model_info['Model 1']['method']"
   ]
  }
 ],
 "metadata": {
  "kernelspec": {
   "display_name": "Python 3 (ipykernel)",
   "language": "python",
   "name": "python3"
  },
  "language_info": {
   "codemirror_mode": {
    "name": "ipython",
    "version": 3
   },
   "file_extension": ".py",
   "mimetype": "text/x-python",
   "name": "python",
   "nbconvert_exporter": "python",
   "pygments_lexer": "ipython3",
   "version": "3.11.0"
  }
 },
 "nbformat": 4,
 "nbformat_minor": 5
}
