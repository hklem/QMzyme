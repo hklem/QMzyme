{
 "cells": [
  {
   "cell_type": "markdown",
   "id": "55ac27d7-821b-41cc-b83d-8d205e92db06",
   "metadata": {},
   "source": [
    "QMzyme\n",
    "==============================\n",
    "\n",
    "\n",
    "![](logo.png)\n"
   ]
  },
  {
   "cell_type": "markdown",
   "id": "62baecef-6846-4ee7-8417-b482a3dc53c7",
   "metadata": {},
   "source": [
    "### Jump to Contents\n",
    "- #### [Installation](#Installation)\n",
    "- #### [Dependencies](#Dependencies)\n",
    "- #### [Getting Started](#Getting-Started)\n",
    "    1. [Generate QMzyme object](#Step-1.-Generate-your-QMzyme-object)\n",
    "    2. [Define catalytic center](#Step-2.-Define-the-catalytic-center)\n",
    "    3. [Select subsystem](#Step-3.-Select-the-subsystem)\n",
    "    4. [Truncate subsystem](#Step-4.-Truncate-the-subsystem)\n",
    "    5. [Resulting model](#Step-5.-Resulting-model)"
   ]
  },
  {
   "cell_type": "markdown",
   "id": "0c416dd2-9c85-4eb1-91fb-0c037a4f42bb",
   "metadata": {},
   "source": [
    "## Installation\n",
    "```\n",
    "pip install QMzyme\n",
    "```"
   ]
  },
  {
   "cell_type": "markdown",
   "id": "c11de53e-57da-49a1-918d-f2d7a4eb4f69",
   "metadata": {},
   "source": [
    "## Dependencies\n",
    "```\n",
    "- rdkit\n",
    "- numpy\n",
    "- aqme\n",
    "- (optional) MDAnalysis\n",
    "```"
   ]
  },
  {
   "cell_type": "markdown",
   "id": "d9ebd9d3-08d0-4d5d-9f09-c51f4138fa06",
   "metadata": {},
   "source": [
    "## Getting Started"
   ]
  },
  {
   "cell_type": "code",
   "execution_count": 8,
   "id": "acdf80e3-1bda-465b-8954-60df4ec6273d",
   "metadata": {},
   "outputs": [],
   "source": [
    "import QMzyme as qmz\n",
    "from importlib_resources import files, as_file\n",
    "import inspect\n",
    "from IPython.display import HTML, display"
   ]
  },
  {
   "cell_type": "code",
   "execution_count": null,
   "id": "d4ee085b-2db1-4eaf-843b-3c815159ffa5",
   "metadata": {},
   "outputs": [],
   "source": [
    "def set_background(color):    \n",
    "    script = (\n",
    "        \"var cell = this.closest('.jp-CodeCell');\"\n",
    "        \"var editor = cell.querySelector('.jp-Editor');\"\n",
    "        \"editor.style.background='{}';\"\n",
    "        \"this.parentNode.removeChild(this)\"\n",
    "    ).format(color)\n",
    "    \n",
    "    display(HTML('<img src onerror=\"{}\" style=\"display:none\">'.format(script)))"
   ]
  },
  {
   "cell_type": "markdown",
   "id": "9df1409b",
   "metadata": {},
   "source": [
    "## Step 1. Generate your QMzyme object"
   ]
  },
  {
   "cell_type": "markdown",
   "id": "33474259",
   "metadata": {},
   "source": [
    "#### What arguments does QMzyme.GenerateModel take?"
   ]
  },
  {
   "cell_type": "code",
   "execution_count": 9,
   "id": "d0e9187c",
   "metadata": {},
   "outputs": [
    {
     "data": {
      "text/html": [
       "<img src onerror=\"var cell = this.closest('.jp-CodeCell');var editor = cell.querySelector('.jp-Editor');editor.style.background='honeydew';this.parentNode.removeChild(this)\" style=\"display:none\">"
      ],
      "text/plain": [
       "<IPython.core.display.HTML object>"
      ]
     },
     "metadata": {},
     "output_type": "display_data"
    },
    {
     "name": "stdout",
     "output_type": "stream",
     "text": [
      "(calculation='QM-only', protein_file=None, pdb_code=None, save_json=True, verbose=True)\n"
     ]
    }
   ],
   "source": [
    "set_background('honeydew')\n",
    "print(inspect.signature(qmz.GenerateModel))"
   ]
  },
  {
   "cell_type": "markdown",
   "id": "dc35cacc",
   "metadata": {},
   "source": [
    "#### Initialize model from PDB file:"
   ]
  },
  {
   "cell_type": "code",
   "execution_count": 3,
   "id": "4d6eb647",
   "metadata": {},
   "outputs": [
    {
     "name": "stdout",
     "output_type": "stream",
     "text": [
      "INITIALIZING... QMZYME OBJECT: 1oh0_equ_from_amber_sim\n",
      "TIMESTAMP: 2024-02-13 09:48:27\n",
      "\n"
     ]
    }
   ],
   "source": [
    "file = str(files('QMzyme.data').joinpath('1oh0_equ_from_amber_sim.pdb'))\n",
    "model = qmz.GenerateModel(protein_file=file)\n",
    "\n",
    "#By default information is printed out after each function call. To turn this off for all calls \n",
    "# pass verbose=False to GenerateModel(). Otherwise, you can set verbose True or False in each of the \n",
    "# functions individually."
   ]
  },
  {
   "cell_type": "markdown",
   "id": "60c25bca",
   "metadata": {},
   "source": [
    "## Step 2. Define the catalytic center"
   ]
  },
  {
   "cell_type": "markdown",
   "id": "6db59c14",
   "metadata": {},
   "source": [
    "#### What arguments does QMzyme.GenerateModel.catalytic_center take?"
   ]
  },
  {
   "cell_type": "code",
   "execution_count": 4,
   "id": "191dfb1f",
   "metadata": {},
   "outputs": [
    {
     "name": "stdout",
     "output_type": "stream",
     "text": [
      "(self, sel='', res_name=None, res_number=None, chain=None, output_file=None, save_file=True, save_json=None, verbose=None)\n"
     ]
    }
   ],
   "source": [
    "print(inspect.signature(qmz.GenerateModel.catalytic_center))"
   ]
  },
  {
   "cell_type": "markdown",
   "id": "7ac663bf",
   "metadata": {},
   "source": [
    "#### You can specify certain residue identifiers like the residue name and/or residue number. If you use a non-unique specifier (like res_name='ALA'), every Alanine residue will be selected, and a warning will pop up to ensure this was your intention. "
   ]
  },
  {
   "cell_type": "code",
   "execution_count": 5,
   "id": "f126beaa",
   "metadata": {},
   "outputs": [
    {
     "name": "stdout",
     "output_type": "stream",
     "text": [
      "INITIALIZING... CATALYTIC CENTER\n",
      "TIMESTAMP: 2024-02-13 09:48:36.738592\n",
      "DEFINITION: \n",
      "N_ATOMS: 37\n",
      "The following object attributes are now available:\n",
      "\tself.catalytic_center_definition\n",
      "\tself.catalytic_center_mol\n",
      "\tself.catalytic_center_pdb\n"
     ]
    }
   ],
   "source": [
    "model.catalytic_center(res_number=263, save_file=False)\n",
    "\n",
    "#I set save_file=False because I don't need the PDB file of the catalytic center,\n",
    "# but you might want to visualize that to ensure it's what you intended."
   ]
  },
  {
   "cell_type": "markdown",
   "id": "db8ed615",
   "metadata": {},
   "source": [
    "#### If you have MDAnalysis installed, you can use the sel argument to pass a string selection command that MDAnalysis will parse:"
   ]
  },
  {
   "cell_type": "code",
   "execution_count": 6,
   "id": "243a16a0",
   "metadata": {},
   "outputs": [
    {
     "name": "stdout",
     "output_type": "stream",
     "text": [
      "INITIALIZING... CATALYTIC CENTER\n",
      "TIMESTAMP: 2024-02-13 09:49:00.210642\n",
      "DEFINITION: \n",
      "N_ATOMS: 37\n",
      "The following object attributes are now available:\n",
      "\tself.catalytic_center_definition\n",
      "\tself.catalytic_center_mol\n",
      "\tself.catalytic_center_pdb\n"
     ]
    }
   ],
   "source": [
    "model.catalytic_center(sel='resid 263', save_json=False, save_file=False)\n",
    "\n",
    "#I set save_json=False here because an error will pop up if we have \n",
    "# the same model object and try to write multiple catalytic centers \n",
    "# to its corresponding json file. If you generate a new model object\n",
    "# in the same directory it will create a new json file and append a\n",
    "# number identifier to it. "
   ]
  },
  {
   "cell_type": "markdown",
   "id": "a99f7885",
   "metadata": {},
   "source": [
    "## Step 3. Select the subsystem"
   ]
  },
  {
   "cell_type": "markdown",
   "id": "910e4558",
   "metadata": {},
   "source": [
    "#### You must define some cutoff distance in Å. Any residue with at least one atom within this distance of at least one atom of the catalytic center will be included in the subsystem."
   ]
  },
  {
   "cell_type": "code",
   "execution_count": 7,
   "id": "684aea39",
   "metadata": {},
   "outputs": [
    {
     "name": "stdout",
     "output_type": "stream",
     "text": [
      "INITIALIZING... SUBSYSTEM SELECTION\n",
      "TIMESTAMP: 2024-02-13 09:49:14.307705\n",
      "CUTOFF: 5\n",
      "OUTPUT_FILE: 1oh0_equ_from_amber_sim_subsystem_distance_cutoff5.pdb\n",
      "N_ATOMS: 427\n",
      "The following object attributes have been generated:\n",
      "\tself.distance_cutoff\n",
      "\tself.subsystem_mol\n",
      "\tself.subsystem_pdb\n",
      "\n"
     ]
    }
   ],
   "source": [
    "model.subsystem(distance_cutoff=5, save_file=False)"
   ]
  },
  {
   "cell_type": "markdown",
   "id": "5869ad1a",
   "metadata": {},
   "source": [
    "## Step 4. Truncate the subsystem"
   ]
  },
  {
   "cell_type": "markdown",
   "id": "a489e462",
   "metadata": {},
   "source": [
    "#### We will do this following the default truncation scheme of cutting only at backbone atoms of terminal residues (i.e., if the subsystem is comprised of residues 1, 2, 3 and 5, the N termini of residues 1 and 5 will be cut and the C termini of residues 3 and 5 will be cut."
   ]
  },
  {
   "cell_type": "code",
   "execution_count": null,
   "id": "ff8a8ecc",
   "metadata": {},
   "outputs": [],
   "source": [
    "model.truncate(save_file=False)"
   ]
  },
  {
   "cell_type": "markdown",
   "id": "051a961e",
   "metadata": {},
   "source": [
    "## Step 5. Resulting model"
   ]
  },
  {
   "cell_type": "markdown",
   "id": "6f1a9084",
   "metadata": {},
   "source": [
    "#### As the code was running, a json file was created each step of the way to record information about the creation process and the resulting model. Creation of this json file can be turned off for all steps by setting save_json=False in qmz.GenerateModel(), or at any of the individual steps. Let's take a look at what information is stored in the json:"
   ]
  },
  {
   "cell_type": "code",
   "execution_count": null,
   "id": "c81d1f5b",
   "metadata": {},
   "outputs": [],
   "source": [
    "import json"
   ]
  },
  {
   "cell_type": "code",
   "execution_count": null,
   "id": "9fa663a9",
   "metadata": {},
   "outputs": [],
   "source": [
    "with open(f'{model.protein_prefix}_QMzyme.json') as j:\n",
    "    model_info = json.load(j)"
   ]
  },
  {
   "cell_type": "code",
   "execution_count": null,
   "id": "0a155403",
   "metadata": {},
   "outputs": [],
   "source": [
    "model_info[\"Starting structure\"]"
   ]
  },
  {
   "cell_type": "code",
   "execution_count": null,
   "id": "4d6a0348",
   "metadata": {},
   "outputs": [],
   "source": [
    "model_info[\"Catalytic center\"]"
   ]
  },
  {
   "cell_type": "markdown",
   "id": "25c7dad6",
   "metadata": {},
   "source": [
    "##### You will see there is a section \"QMzyme 1\" with information on how the subsystem was selected and what residues comprise the truncated subsystem. If you were to run model.subsystem() again, it would create a new entry under \"QMyme 2\". "
   ]
  },
  {
   "cell_type": "code",
   "execution_count": null,
   "id": "5f92e81d",
   "metadata": {},
   "outputs": [],
   "source": [
    "model_info[\"QMzyme 1\"][\"Subsystem selection\"]"
   ]
  },
  {
   "cell_type": "code",
   "execution_count": null,
   "id": "53bac63b",
   "metadata": {},
   "outputs": [],
   "source": [
    "model_info[\"QMzyme 1\"][\"Truncated subsystem\"]"
   ]
  },
  {
   "cell_type": "markdown",
   "id": "b1a25340-e41e-4caf-990b-3bcff4837f43",
   "metadata": {},
   "source": [
    "#### Copyright\n",
    "Copyright (c) 2023, Heidi Klem\n",
    "\n",
    "#### Acknowledgements\n",
    "Project architecture initiated through the \n",
    "[Computational Molecular Science Python Cookiecutter](https://github.com/molssi/cookiecutter-cms)."
   ]
  }
 ],
 "metadata": {
  "kernelspec": {
   "display_name": "Python 3 (ipykernel)",
   "language": "python",
   "name": "python3"
  },
  "language_info": {
   "codemirror_mode": {
    "name": "ipython",
    "version": 3
   },
   "file_extension": ".py",
   "mimetype": "text/x-python",
   "name": "python",
   "nbconvert_exporter": "python",
   "pygments_lexer": "ipython3",
   "version": "3.11.7"
  }
 },
 "nbformat": 4,
 "nbformat_minor": 5
}
