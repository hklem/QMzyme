{
 "cells": [
  {
   "cell_type": "markdown",
   "id": "25e8f47b",
   "metadata": {},
   "source": [
    "# Getting Started"
   ]
  },
  {
   "cell_type": "code",
   "execution_count": 1,
   "id": "f6862620",
   "metadata": {},
   "outputs": [],
   "source": [
    "import QMzyme\n",
    "from importlib_resources import files, as_file"
   ]
  },
  {
   "cell_type": "markdown",
   "id": "9df1409b",
   "metadata": {},
   "source": [
    "## Step 1. QMzyme object instance creation"
   ]
  },
  {
   "cell_type": "code",
   "execution_count": 2,
   "id": "4d6eb647",
   "metadata": {},
   "outputs": [],
   "source": [
    "pdb_file = str(files('QMzyme.data').joinpath('1oh0_equ_from_amber_sim.pdb'))\n",
    "ksi = QMzyme.GenerateModel(pdb_file, id='1oh0_crystal')"
   ]
  },
  {
   "cell_type": "markdown",
   "id": "60c25bca",
   "metadata": {},
   "source": [
    "## Step 2. Catalytic center definition"
   ]
  },
  {
   "cell_type": "code",
   "execution_count": 3,
   "id": "243a16a0",
   "metadata": {},
   "outputs": [],
   "source": [
    "ksi.set_catalytic_center(resname='EQU', resnumber=263) "
   ]
  },
  {
   "cell_type": "markdown",
   "id": "a99f7885",
   "metadata": {},
   "source": [
    "## Step 3. Residue selection"
   ]
  },
  {
   "cell_type": "markdown",
   "id": "910e4558",
   "metadata": {},
   "source": [
    "#### You must define some cutoff distance in Å. Any residue with at least one atom within this distance of at least one atom of the catalytic center will be included in the subsystem."
   ]
  },
  {
   "cell_type": "code",
   "execution_count": 4,
   "id": "684aea39",
   "metadata": {},
   "outputs": [
    {
     "name": "stdout",
     "output_type": "stream",
     "text": [
      "Model 1 created by the within_distance method has been stored to <QMzyme Structure id=1oh0_crystal>.\n"
     ]
    }
   ],
   "source": [
    "ksi.within_distance(distance_cutoff=5)"
   ]
  },
  {
   "cell_type": "markdown",
   "id": "f8b2766a",
   "metadata": {},
   "source": [
    "## Step 4. Model truncation"
   ]
  },
  {
   "cell_type": "code",
   "execution_count": 5,
   "id": "ff8a8ecc",
   "metadata": {},
   "outputs": [],
   "source": [
    "ksi.truncate()"
   ]
  },
  {
   "cell_type": "markdown",
   "id": "6c2d710c",
   "metadata": {},
   "source": [
    "## Step 5. QM input generation"
   ]
  },
  {
   "cell_type": "code",
   "execution_count": 6,
   "id": "c81d1f5b",
   "metadata": {},
   "outputs": [
    {
     "name": "stdout",
     "output_type": "stream",
     "text": [
      "File 1oh0_crystal_1.pdb created.\n",
      "AQME v 1.5.2 2024/04/16 14:06:13 \n",
      "Citation: AQME v 1.5.2, Alegre-Requena, J. V.; Sowndarya, S.; Perez-Soto, R.; Alturaifi, T.; Paton, R. AQME: Automated Quantum Mechanical Environments for Researchers and Educators. Wiley Interdiscip. Rev. Comput. Mol. Sci. 2023, DOI: 10.1002/wcms.1663.\n",
      "\n",
      "\n",
      "o  1oh0_crystal_1 successfully processed at /Users/hrk/git/QMzyme/Tutorials/QCALC\n",
      "\n",
      "\n",
      "Time QPREP: 0.11 seconds\n",
      "\n",
      "\n"
     ]
    }
   ],
   "source": [
    "ksi.calculateQM(model=None, functional='wb97xd', \n",
    "                basis_set='6-31g(d)', opt=True, freq=True, freeze_atoms = ['CA'], \n",
    "                charge = -2, mult = 1, mem='32GB', \n",
    "                nprocs=16, program='gaussian')"
   ]
  },
  {
   "cell_type": "markdown",
   "id": "43d63de2",
   "metadata": {},
   "source": [
    "## Step 6. Store information in JSON file"
   ]
  },
  {
   "cell_type": "code",
   "execution_count": 7,
   "id": "cefa3f3a",
   "metadata": {},
   "outputs": [],
   "source": [
    "ksi.write_json()"
   ]
  },
  {
   "cell_type": "code",
   "execution_count": 8,
   "id": "9fa663a9",
   "metadata": {},
   "outputs": [],
   "source": [
    "import json \n",
    "with open(f'{ksi.id}.json') as j:\n",
    "    model_info = json.load(j)"
   ]
  },
  {
   "cell_type": "code",
   "execution_count": 9,
   "id": "dc4857bf",
   "metadata": {},
   "outputs": [
    {
     "data": {
      "text/plain": [
       "dict_keys(['Model 1', 'Original structure', 'QMzyme_calls', 'Structure file', 'id'])"
      ]
     },
     "execution_count": 9,
     "metadata": {},
     "output_type": "execute_result"
    }
   ],
   "source": [
    "model_info.keys()"
   ]
  },
  {
   "cell_type": "code",
   "execution_count": 10,
   "id": "3a15caa5",
   "metadata": {},
   "outputs": [
    {
     "data": {
      "text/plain": [
       "dict_keys(['Residues', '_id', 'calculations', 'charge', 'full_id', 'method', 'multiplicity'])"
      ]
     },
     "execution_count": 10,
     "metadata": {},
     "output_type": "execute_result"
    }
   ],
   "source": [
    "model_info['Model 1'].keys()"
   ]
  },
  {
   "cell_type": "code",
   "execution_count": 11,
   "id": "8044c10d",
   "metadata": {},
   "outputs": [
    {
     "data": {
      "text/plain": [
       "{'catalytic_center': ['EQU263'], 'cutoff': 5, 'type': 'within_distance'}"
      ]
     },
     "execution_count": 11,
     "metadata": {},
     "output_type": "execute_result"
    }
   ],
   "source": [
    "model_info['Model 1']['method']"
   ]
  }
 ],
 "metadata": {
  "kernelspec": {
   "display_name": "Python 3 (ipykernel)",
   "language": "python",
   "name": "python3"
  },
  "language_info": {
   "codemirror_mode": {
    "name": "ipython",
    "version": 3
   },
   "file_extension": ".py",
   "mimetype": "text/x-python",
   "name": "python",
   "nbconvert_exporter": "python",
   "pygments_lexer": "ipython3",
   "version": "3.11.7"
  }
 },
 "nbformat": 4,
 "nbformat_minor": 5
}
