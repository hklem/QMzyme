{
 "cells": [
  {
   "cell_type": "markdown",
   "id": "25e8f47b",
   "metadata": {},
   "source": [
    "# Getting Started"
   ]
  },
  {
   "cell_type": "code",
   "execution_count": 1,
   "id": "f6862620",
   "metadata": {},
   "outputs": [],
   "source": [
    "import QMzyme\n",
    "from importlib_resources import files, as_file"
   ]
  },
  {
   "cell_type": "markdown",
   "id": "9df1409b",
   "metadata": {},
   "source": [
    "## Step 1. QMzyme object instance creation"
   ]
  },
  {
   "cell_type": "code",
   "execution_count": 2,
   "id": "4d6eb647",
   "metadata": {},
   "outputs": [],
   "source": [
    "pdb_file = str(files('QMzyme.data').joinpath('1oh0_equ_from_amber_sim.pdb'))\n",
    "ksi = QMzyme.GenerateModel(pdb_file, id='1oh0_crystal')"
   ]
  },
  {
   "cell_type": "markdown",
   "id": "60c25bca",
   "metadata": {},
   "source": [
    "## Step 2. Catalytic center definition"
   ]
  },
  {
   "cell_type": "code",
   "execution_count": 3,
   "id": "243a16a0",
   "metadata": {},
   "outputs": [],
   "source": [
    "ksi.set_catalytic_center(resname='EQU', resnumber=263) "
   ]
  },
  {
   "cell_type": "markdown",
   "id": "a99f7885",
   "metadata": {},
   "source": [
    "## Step 3. Residue selection"
   ]
  },
  {
   "cell_type": "markdown",
   "id": "910e4558",
   "metadata": {},
   "source": [
    "#### You must define some cutoff distance in Å. Any residue with at least one atom within this distance of at least one atom of the catalytic center will be included in the subsystem."
   ]
  },
  {
   "cell_type": "code",
   "execution_count": 4,
   "id": "684aea39",
   "metadata": {},
   "outputs": [
    {
     "name": "stdout",
     "output_type": "stream",
     "text": [
      "Model 1 created by the within_distance method has been stored to <QMzyme Structure id=1oh0_crystal>.\n"
     ]
    }
   ],
   "source": [
    "ksi.within_distance(distance_cutoff=5)"
   ]
  },
  {
   "cell_type": "markdown",
   "id": "f8b2766a",
   "metadata": {},
   "source": [
    "## Step 4. Model truncation"
   ]
  },
  {
   "cell_type": "code",
   "execution_count": 5,
   "id": "ff8a8ecc",
   "metadata": {},
   "outputs": [],
   "source": [
    "ksi.truncate()"
   ]
  },
  {
   "cell_type": "markdown",
   "id": "6c2d710c",
   "metadata": {},
   "source": [
    "## Step 5. QM input generation"
   ]
  },
  {
   "cell_type": "code",
   "execution_count": 6,
   "id": "c81d1f5b",
   "metadata": {},
   "outputs": [
    {
     "name": "stdout",
     "output_type": "stream",
     "text": [
      "File 1oh0_crystal_1.pdb created.\n",
      "AQME v 1.5.2 2024/04/16 12:44:03 \n",
      "Citation: AQME v 1.5.2, Alegre-Requena, J. V.; Sowndarya, S.; Perez-Soto, R.; Alturaifi, T.; Paton, R. AQME: Automated Quantum Mechanical Environments for Researchers and Educators. Wiley Interdiscip. Rev. Comput. Mol. Sci. 2023, DOI: 10.1002/wcms.1663.\n",
      "\n",
      "\n",
      "o  1oh0_crystal_1 successfully processed at /Users/hrk/git/QMzyme/Tutorials/QCALC\n",
      "\n",
      "\n",
      "Time QPREP: 0.11 seconds\n",
      "\n",
      "\n"
     ]
    }
   ],
   "source": [
    "ksi.calculateQM(model=None, functional='wb97xd', \n",
    "                basis_set='6-31g(d)', opt=True, freq=True, freeze_atoms = ['CA'], \n",
    "                charge = -2, mult = 1, mem='32GB', \n",
    "                nprocs=16, program='gaussian')"
   ]
  },
  {
   "cell_type": "markdown",
   "id": "43d63de2",
   "metadata": {},
   "source": [
    "## Step 6. Store information in JSON file"
   ]
  },
  {
   "cell_type": "code",
   "execution_count": 7,
   "id": "cefa3f3a",
   "metadata": {},
   "outputs": [],
   "source": [
    "ksi.write_json()"
   ]
  },
  {
   "cell_type": "code",
   "execution_count": 9,
   "id": "9fa663a9",
   "metadata": {},
   "outputs": [],
   "source": [
    "import json \n",
    "with open(f'{ksi.id}.json') as j:\n",
    "    model_info = json.load(j)"
   ]
  },
  {
   "cell_type": "code",
   "execution_count": 11,
   "id": "dc4857bf",
   "metadata": {},
   "outputs": [
    {
     "data": {
      "text/plain": [
       "{'level': 'S',\n",
       " '_id': '1oh0_crystal',\n",
       " 'full_id': None,\n",
       " 'parent': None,\n",
       " 'child_list': [<Model id=1>],\n",
       " 'child_dict': {1: <Model id=1>},\n",
       " 'header': {'name': '',\n",
       "  'head': '',\n",
       "  'idcode': '',\n",
       "  'deposition_date': '1909-01-08',\n",
       "  'release_date': '1909-01-08',\n",
       "  'structure_method': 'unknown',\n",
       "  'resolution': None,\n",
       "  'structure_reference': [],\n",
       "  'journal_reference': '',\n",
       "  'author': '',\n",
       "  'compound': {'1': {'misc': ''}},\n",
       "  'source': {'1': {'misc': ''}},\n",
       "  'has_missing_residues': False,\n",
       "  'missing_residues': [],\n",
       "  'biomoltrans': {}},\n",
       " 'pdb_file': '/Users/hrk/git/QMzyme/QMzyme/data/1oh0_equ_from_amber_sim.pdb',\n",
       " 'base': <Model id=0>,\n",
       " 'models': [<Model id=1>],\n",
       " 'QMzyme_details': {'__init__': {'Time': 'placeholder'}},\n",
       " 'catalytic_center': [<Residue EQU resseq=263 chain=A]}"
      ]
     },
     "execution_count": 11,
     "metadata": {},
     "output_type": "execute_result"
    }
   ],
   "source": [
    "ksi.__dict__"
   ]
  },
  {
   "cell_type": "code",
   "execution_count": 10,
   "id": "4d6a0348",
   "metadata": {},
   "outputs": [
    {
     "ename": "KeyError",
     "evalue": "'structure'",
     "output_type": "error",
     "traceback": [
      "\u001b[0;31m---------------------------------------------------------------------------\u001b[0m",
      "\u001b[0;31mKeyError\u001b[0m                                  Traceback (most recent call last)",
      "Cell \u001b[0;32mIn[10], line 1\u001b[0m\n\u001b[0;32m----> 1\u001b[0m \u001b[43mmodel_info\u001b[49m\u001b[43m[\u001b[49m\u001b[38;5;124;43m\"\u001b[39;49m\u001b[38;5;124;43mstructure\u001b[39;49m\u001b[38;5;124;43m\"\u001b[39;49m\u001b[43m]\u001b[49m\n",
      "\u001b[0;31mKeyError\u001b[0m: 'structure'"
     ]
    }
   ],
   "source": [
    "model_info[\"structure\"]"
   ]
  },
  {
   "cell_type": "markdown",
   "id": "25c7dad6",
   "metadata": {},
   "source": [
    "##### You will see there is a section \"QMzyme 1\" with information on how the subsystem was selected and what residues comprise the truncated subsystem. If you were to run model.subsystem() again, it would create a new entry under \"QMyme 2\". "
   ]
  },
  {
   "cell_type": "code",
   "execution_count": 13,
   "id": "5f92e81d",
   "metadata": {},
   "outputs": [
    {
     "data": {
      "text/plain": [
       "{'Number of atoms': 406,\n",
       " 'Distance cutoff': 5,\n",
       " 'Output file': '1oh0_equ_xstal_subsystem_distance_cutoff5.pdb'}"
      ]
     },
     "execution_count": 13,
     "metadata": {},
     "output_type": "execute_result"
    }
   ],
   "source": [
    "model_info[\"QMzyme 1\"][\"Subsystem selection\"]"
   ]
  },
  {
   "cell_type": "code",
   "execution_count": 14,
   "id": "53bac63b",
   "metadata": {},
   "outputs": [
    {
     "data": {
      "text/plain": [
       "{'Number of atoms': 368,\n",
       " 'Distance cutoff': 5,\n",
       " 'Residues': [{'Residue name': 'TYR', 'Residue number': 16, 'Chain': 'A'},\n",
       "  {'Residue name': 'ILE', 'Residue number': 17, 'Chain': 'A'},\n",
       "  {'Residue name': 'VAL', 'Residue number': 20, 'Chain': 'A'},\n",
       "  {'Residue name': 'ASP', 'Residue number': 40, 'Chain': 'A'},\n",
       "  {'Residue name': 'PRO', 'Residue number': 41, 'Chain': 'A'},\n",
       "  {'Residue name': 'TYR', 'Residue number': 57, 'Chain': 'A'},\n",
       "  {'Residue name': 'GLY', 'Residue number': 60, 'Chain': 'A'},\n",
       "  {'Residue name': 'LEU', 'Residue number': 61, 'Chain': 'A'},\n",
       "  {'Residue name': 'VAL', 'Residue number': 66, 'Chain': 'A'},\n",
       "  {'Residue name': 'ALA', 'Residue number': 68, 'Chain': 'A'},\n",
       "  {'Residue name': 'MET', 'Residue number': 84, 'Chain': 'A'},\n",
       "  {'Residue name': 'PHE', 'Residue number': 86, 'Chain': 'A'},\n",
       "  {'Residue name': 'VAL', 'Residue number': 88, 'Chain': 'A'},\n",
       "  {'Residue name': 'MET', 'Residue number': 90, 'Chain': 'A'},\n",
       "  {'Residue name': 'LEU', 'Residue number': 99, 'Chain': 'A'},\n",
       "  {'Residue name': 'VAL', 'Residue number': 101, 'Chain': 'A'},\n",
       "  {'Residue name': 'ASH', 'Residue number': 103, 'Chain': 'A'},\n",
       "  {'Residue name': 'MET', 'Residue number': 105, 'Chain': 'A'},\n",
       "  {'Residue name': 'MET', 'Residue number': 116, 'Chain': 'A'},\n",
       "  {'Residue name': 'ALA', 'Residue number': 118, 'Chain': 'A'},\n",
       "  {'Residue name': 'TRP', 'Residue number': 120, 'Chain': 'A'},\n",
       "  {'Residue name': 'LEU', 'Residue number': 125, 'Chain': 'A'},\n",
       "  {'Residue name': 'EQU', 'Residue number': 263, 'Chain': 'A'},\n",
       "  {'Residue name': 'WAT', 'Residue number': 265, 'Chain': 'A'},\n",
       "  {'Residue name': 'WAT', 'Residue number': 266, 'Chain': 'A'},\n",
       "  {'Residue name': 'WAT', 'Residue number': 267, 'Chain': 'A'}],\n",
       " 'C-alpha atom indices': [2,\n",
       "  23,\n",
       "  40,\n",
       "  54,\n",
       "  74,\n",
       "  78,\n",
       "  97,\n",
       "  104,\n",
       "  121,\n",
       "  135,\n",
       "  143,\n",
       "  158,\n",
       "  176,\n",
       "  190,\n",
       "  205,\n",
       "  222,\n",
       "  236,\n",
       "  247,\n",
       "  262,\n",
       "  277,\n",
       "  285,\n",
       "  307],\n",
       " 'Subsystem charge': -1,\n",
       " 'Output file': '1oh0_equ_xstal_truncated_subsystem_distance_cutoff5.pdb'}"
      ]
     },
     "execution_count": 14,
     "metadata": {},
     "output_type": "execute_result"
    }
   ],
   "source": [
    "model_info[\"QMzyme 1\"][\"Truncated subsystem\"]"
   ]
  },
  {
   "cell_type": "code",
   "execution_count": null,
   "id": "93d8803b",
   "metadata": {},
   "outputs": [],
   "source": []
  }
 ],
 "metadata": {
  "kernelspec": {
   "display_name": "Python 3 (ipykernel)",
   "language": "python",
   "name": "python3"
  },
  "language_info": {
   "codemirror_mode": {
    "name": "ipython",
    "version": 3
   },
   "file_extension": ".py",
   "mimetype": "text/x-python",
   "name": "python",
   "nbconvert_exporter": "python",
   "pygments_lexer": "ipython3",
   "version": "3.11.7"
  }
 },
 "nbformat": 4,
 "nbformat_minor": 5
}
