{
 "cells": [
  {
   "cell_type": "markdown",
   "id": "25e8f47b",
   "metadata": {},
   "source": [
    "# Getting to know the QMzyme code"
   ]
  },
  {
   "cell_type": "code",
   "execution_count": 1,
   "id": "f6862620",
   "metadata": {},
   "outputs": [
    {
     "name": "stderr",
     "output_type": "stream",
     "text": [
      "/Users/hrk/anaconda3/envs/qmzyme/lib/python3.11/site-packages/MDAnalysis/topology/TPRParser.py:161: DeprecationWarning: 'xdrlib' is deprecated and slated for removal in Python 3.13\n",
      "  import xdrlib\n"
     ]
    }
   ],
   "source": [
    "import QMzyme as qmz\n",
    "import inspect"
   ]
  },
  {
   "cell_type": "markdown",
   "id": "9df1409b",
   "metadata": {},
   "source": [
    "## Step 1. Generate your QMzyme object"
   ]
  },
  {
   "cell_type": "markdown",
   "id": "33474259",
   "metadata": {},
   "source": [
    "#### What arguments does QMzyme.GenerateModel take?"
   ]
  },
  {
   "cell_type": "code",
   "execution_count": 2,
   "id": "d0e9187c",
   "metadata": {},
   "outputs": [
    {
     "name": "stdout",
     "output_type": "stream",
     "text": [
      "(calculation='QM-only', protein_file=None, pdb_code=None, save_json=True, verbose=True)\n"
     ]
    }
   ],
   "source": [
    "print(inspect.signature(qmz.GenerateModel))"
   ]
  },
  {
   "cell_type": "markdown",
   "id": "dc35cacc",
   "metadata": {},
   "source": [
    "#### Initialize model from PDB file:"
   ]
  },
  {
   "cell_type": "code",
   "execution_count": 3,
   "id": "4d6eb647",
   "metadata": {},
   "outputs": [
    {
     "name": "stdout",
     "output_type": "stream",
     "text": [
      "INITIALIZING... QMZYME OBJECT: 1oh0_equ_xstal\n",
      "TIMESTAMP: 2024-02-06 13:21:02\n",
      "\n"
     ]
    }
   ],
   "source": [
    "model = qmz.GenerateModel(protein_file='../QMzyme/tests/init_files/1oh0_equ_xstal.pdb')\n",
    "# information gets printed out after each function call. To turn this off for all calls \n",
    "# pass verbose=False to GenerateModel(). Otherwise, you can turn verbose on or off in each of the \n",
    "# functions individually."
   ]
  },
  {
   "cell_type": "markdown",
   "id": "60c25bca",
   "metadata": {},
   "source": [
    "## Step 2. Define the catalytic center"
   ]
  },
  {
   "cell_type": "markdown",
   "id": "6db59c14",
   "metadata": {},
   "source": [
    "#### What arguments does QMzyme.GenerateModel.catalytic_center take?"
   ]
  },
  {
   "cell_type": "code",
   "execution_count": 4,
   "id": "191dfb1f",
   "metadata": {},
   "outputs": [
    {
     "name": "stdout",
     "output_type": "stream",
     "text": [
      "(self, sel='', res_name=None, res_number=None, chain=None, output_file=None, save_file=True, save_json=None, verbose=None)\n"
     ]
    }
   ],
   "source": [
    "print(inspect.signature(qmz.GenerateModel.catalytic_center))"
   ]
  },
  {
   "cell_type": "markdown",
   "id": "db8ed615",
   "metadata": {},
   "source": [
    "#### If you have MDAnalysis installed, you use the sel argument to pass a string selection command that MDAnalysis will parse:"
   ]
  },
  {
   "cell_type": "code",
   "execution_count": 5,
   "id": "243a16a0",
   "metadata": {},
   "outputs": [
    {
     "name": "stderr",
     "output_type": "stream",
     "text": [
      "/Users/hrk/anaconda3/envs/qmzyme/lib/python3.11/site-packages/MDAnalysis/topology/PDBParser.py:331: UserWarning: Element information is missing, elements attribute will not be populated. If needed these can be guessed using MDAnalysis.topology.guessers.\n",
      "  warnings.warn(\"Element information is missing, elements attribute \"\n"
     ]
    },
    {
     "name": "stdout",
     "output_type": "stream",
     "text": [
      "INITIALIZING... CATALYTIC CENTER\n",
      "TIMESTAMP: 2024-02-06 13:21:02.780296\n",
      "DEFINITION: \n",
      "N_ATOMS: 37\n",
      "OUTPUT_FILE: 1oh0_equ_xstal_catalytic_center.pdb\n",
      "The following object attributes are now available:\n",
      "\tself.catalytic_center_definition\n",
      "\tself.catalytic_center_mol\n",
      "\tself.catalytic_center_pdb\n"
     ]
    }
   ],
   "source": [
    "model.catalytic_center(sel='resid 263', save_json=False) \n",
    "# save_json is false here because an error will pop up if we have \n",
    "# the same model object and try to write multiple catalytic centers \n",
    "# to its corresponding json file. If you generate a new model object\n",
    "# in the same directory it will create a new json file and append a\n",
    "# number identifier to it. "
   ]
  },
  {
   "cell_type": "markdown",
   "id": "7ac663bf",
   "metadata": {},
   "source": [
    "#### Alternatively, you can specify certain components likes the residue name and/or residue number. "
   ]
  },
  {
   "cell_type": "code",
   "execution_count": 6,
   "id": "f126beaa",
   "metadata": {},
   "outputs": [
    {
     "name": "stdout",
     "output_type": "stream",
     "text": [
      "INITIALIZING... CATALYTIC CENTER\n",
      "TIMESTAMP: 2024-02-06 13:21:03.122649\n",
      "DEFINITION: \n",
      "N_ATOMS: 37\n",
      "OUTPUT_FILE: 1oh0_equ_xstal_catalytic_center.pdb\n",
      "The following object attributes are now available:\n",
      "\tself.catalytic_center_definition\n",
      "\tself.catalytic_center_mol\n",
      "\tself.catalytic_center_pdb\n"
     ]
    }
   ],
   "source": [
    "model.catalytic_center(res_number=263)"
   ]
  },
  {
   "cell_type": "markdown",
   "id": "a99f7885",
   "metadata": {},
   "source": [
    "## Step 3. Select the subsystem:"
   ]
  },
  {
   "cell_type": "markdown",
   "id": "910e4558",
   "metadata": {},
   "source": [
    "#### You must define some cutoff distance in Å. Any residue with at least one atom within this distance of at least one atom of the catalytic center will be included in the subsystem."
   ]
  },
  {
   "cell_type": "code",
   "execution_count": 7,
   "id": "684aea39",
   "metadata": {},
   "outputs": [
    {
     "name": "stdout",
     "output_type": "stream",
     "text": [
      "INITIALIZING... SUBSYSTEM SELECTION\n",
      "TIMESTAMP: 2024-02-06 13:21:03.335373\n",
      "CUTOFF: 5\n",
      "OUTPUT_FILE: 1oh0_equ_xstal_subsystem_distance_cutoff5.pdb\n",
      "N_ATOMS: 406\n",
      "The following object attributes have been generated:\n",
      "\tself.distance_cutoff\n",
      "\tself.subsystem_mol\n",
      "\tself.subsystem_pdb\n",
      "\n"
     ]
    }
   ],
   "source": [
    "model.subsystem(distance_cutoff=5)"
   ]
  },
  {
   "cell_type": "markdown",
   "id": "5869ad1a",
   "metadata": {},
   "source": [
    "## Step 4. Truncate the subsystem:"
   ]
  },
  {
   "cell_type": "markdown",
   "id": "a489e462",
   "metadata": {},
   "source": [
    "#### We will do this following the default truncation scheme of cutting only at backbone atoms of terminal residues (i.e., if the subsystem is comprised of residues 1, 2, 3 and 5, the N termini of residues 1 and 5 will be cut and the C termini of residues 3 and 5 will be cut."
   ]
  },
  {
   "cell_type": "code",
   "execution_count": 8,
   "id": "ff8a8ecc",
   "metadata": {},
   "outputs": [
    {
     "name": "stdout",
     "output_type": "stream",
     "text": [
      "INITIALIZING... SUBSYSTEM TRUNCATION\n",
      "TIMESTAMP: 2024-02-06 13:21:03.892215\n",
      "SCHEME: CA_terminal\n",
      "CUTOFF: 5\n",
      "OUTPUT_FILE: 1oh0_equ_xstal_truncated_subsystem_distance_cutoff5.pdb\n",
      "N_ATOMS: 368\n",
      "CHARGE: -1\n",
      "NOTE: charge does NOT include the catalytic center and is based on AMBER amino acid naming conventions.\n",
      " MODEL_COMPONENTS: TYR16,ILE17,VAL20,ASP40,PRO41,TYR57,GLY60,LEU61,VAL66,ALA68,MET84,PHE86,VAL88,MET90,LEU99,VAL101,ASH103,MET105,MET116,ALA118,TRP120,LEU125,EQU263,WAT265,WAT266,WAT267\n",
      "The following object attributes are now available:\n",
      "\tself.subsystem_charge\n",
      "\tself.model_atom_count\n",
      "\tself.truncated_subsystem_mol\n",
      "\tself.truncated_subsystem_pdb\n",
      "\tself.constrain_atom_list\n",
      "\tself.residues\n",
      "\n"
     ]
    }
   ],
   "source": [
    "model.truncate()"
   ]
  },
  {
   "cell_type": "markdown",
   "id": "051a961e",
   "metadata": {},
   "source": [
    "## Step 5. Resulting model"
   ]
  },
  {
   "cell_type": "markdown",
   "id": "6f1a9084",
   "metadata": {},
   "source": [
    "#### As the code was running, a json file was created each step of the way to record information about the creation process and the resulting model. Creation of this json file can be turned off for all steps by setting save_json=False in qmz.GenerateModel(), or at any of the individual steps. Let's take a look at what information is stored in the json:"
   ]
  },
  {
   "cell_type": "code",
   "execution_count": 9,
   "id": "c81d1f5b",
   "metadata": {},
   "outputs": [],
   "source": [
    "import json"
   ]
  },
  {
   "cell_type": "code",
   "execution_count": 10,
   "id": "9fa663a9",
   "metadata": {},
   "outputs": [],
   "source": [
    "with open(f'{model.protein_prefix}_QMzyme.json') as j:\n",
    "    model_info = json.load(j)"
   ]
  },
  {
   "cell_type": "code",
   "execution_count": 11,
   "id": "0a155403",
   "metadata": {},
   "outputs": [
    {
     "data": {
      "text/plain": [
       "'../QMzyme/tests/init_files/1oh0_equ_xstal.pdb'"
      ]
     },
     "execution_count": 11,
     "metadata": {},
     "output_type": "execute_result"
    }
   ],
   "source": [
    "model_info[\"Starting structure\"]"
   ]
  },
  {
   "cell_type": "code",
   "execution_count": 12,
   "id": "4d6a0348",
   "metadata": {},
   "outputs": [
    {
     "data": {
      "text/plain": [
       "{'Residue number': 263,\n",
       " 'Number of atoms': 37,\n",
       " 'Output file': '1oh0_equ_xstal_catalytic_center.pdb'}"
      ]
     },
     "execution_count": 12,
     "metadata": {},
     "output_type": "execute_result"
    }
   ],
   "source": [
    "model_info[\"Catalytic center\"]"
   ]
  },
  {
   "cell_type": "markdown",
   "id": "25c7dad6",
   "metadata": {},
   "source": [
    "##### You will see there is a section \"QMzyme 1\" with information on how the subsystem was selected and what residues comprise the truncated subsystem. If you were to run model.subsystem() again, it would create a new entry under \"QMyme 2\". "
   ]
  },
  {
   "cell_type": "code",
   "execution_count": 13,
   "id": "5f92e81d",
   "metadata": {},
   "outputs": [
    {
     "data": {
      "text/plain": [
       "{'Number of atoms': 406,\n",
       " 'Distance cutoff': 5,\n",
       " 'Output file': '1oh0_equ_xstal_subsystem_distance_cutoff5.pdb'}"
      ]
     },
     "execution_count": 13,
     "metadata": {},
     "output_type": "execute_result"
    }
   ],
   "source": [
    "model_info[\"QMzyme 1\"][\"Subsystem selection\"]"
   ]
  },
  {
   "cell_type": "code",
   "execution_count": 14,
   "id": "53bac63b",
   "metadata": {},
   "outputs": [
    {
     "data": {
      "text/plain": [
       "{'Number of atoms': 368,\n",
       " 'Distance cutoff': 5,\n",
       " 'Residues': [{'Residue name': 'TYR', 'Residue number': 16, 'Chain': 'A'},\n",
       "  {'Residue name': 'ILE', 'Residue number': 17, 'Chain': 'A'},\n",
       "  {'Residue name': 'VAL', 'Residue number': 20, 'Chain': 'A'},\n",
       "  {'Residue name': 'ASP', 'Residue number': 40, 'Chain': 'A'},\n",
       "  {'Residue name': 'PRO', 'Residue number': 41, 'Chain': 'A'},\n",
       "  {'Residue name': 'TYR', 'Residue number': 57, 'Chain': 'A'},\n",
       "  {'Residue name': 'GLY', 'Residue number': 60, 'Chain': 'A'},\n",
       "  {'Residue name': 'LEU', 'Residue number': 61, 'Chain': 'A'},\n",
       "  {'Residue name': 'VAL', 'Residue number': 66, 'Chain': 'A'},\n",
       "  {'Residue name': 'ALA', 'Residue number': 68, 'Chain': 'A'},\n",
       "  {'Residue name': 'MET', 'Residue number': 84, 'Chain': 'A'},\n",
       "  {'Residue name': 'PHE', 'Residue number': 86, 'Chain': 'A'},\n",
       "  {'Residue name': 'VAL', 'Residue number': 88, 'Chain': 'A'},\n",
       "  {'Residue name': 'MET', 'Residue number': 90, 'Chain': 'A'},\n",
       "  {'Residue name': 'LEU', 'Residue number': 99, 'Chain': 'A'},\n",
       "  {'Residue name': 'VAL', 'Residue number': 101, 'Chain': 'A'},\n",
       "  {'Residue name': 'ASH', 'Residue number': 103, 'Chain': 'A'},\n",
       "  {'Residue name': 'MET', 'Residue number': 105, 'Chain': 'A'},\n",
       "  {'Residue name': 'MET', 'Residue number': 116, 'Chain': 'A'},\n",
       "  {'Residue name': 'ALA', 'Residue number': 118, 'Chain': 'A'},\n",
       "  {'Residue name': 'TRP', 'Residue number': 120, 'Chain': 'A'},\n",
       "  {'Residue name': 'LEU', 'Residue number': 125, 'Chain': 'A'},\n",
       "  {'Residue name': 'EQU', 'Residue number': 263, 'Chain': 'A'},\n",
       "  {'Residue name': 'WAT', 'Residue number': 265, 'Chain': 'A'},\n",
       "  {'Residue name': 'WAT', 'Residue number': 266, 'Chain': 'A'},\n",
       "  {'Residue name': 'WAT', 'Residue number': 267, 'Chain': 'A'}],\n",
       " 'C-alpha atom indices': [2,\n",
       "  23,\n",
       "  40,\n",
       "  54,\n",
       "  74,\n",
       "  78,\n",
       "  97,\n",
       "  104,\n",
       "  121,\n",
       "  135,\n",
       "  143,\n",
       "  158,\n",
       "  176,\n",
       "  190,\n",
       "  205,\n",
       "  222,\n",
       "  236,\n",
       "  247,\n",
       "  262,\n",
       "  277,\n",
       "  285,\n",
       "  307],\n",
       " 'Subsystem charge': -1,\n",
       " 'Output file': '1oh0_equ_xstal_truncated_subsystem_distance_cutoff5.pdb'}"
      ]
     },
     "execution_count": 14,
     "metadata": {},
     "output_type": "execute_result"
    }
   ],
   "source": [
    "model_info[\"QMzyme 1\"][\"Truncated subsystem\"]"
   ]
  },
  {
   "cell_type": "code",
   "execution_count": null,
   "id": "93d8803b",
   "metadata": {},
   "outputs": [],
   "source": []
  }
 ],
 "metadata": {
  "kernelspec": {
   "display_name": "Python 3 (ipykernel)",
   "language": "python",
   "name": "python3"
  },
  "language_info": {
   "codemirror_mode": {
    "name": "ipython",
    "version": 3
   },
   "file_extension": ".py",
   "mimetype": "text/x-python",
   "name": "python",
   "nbconvert_exporter": "python",
   "pygments_lexer": "ipython3",
   "version": "3.11.7"
  }
 },
 "nbformat": 4,
 "nbformat_minor": 5
}
