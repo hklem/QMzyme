


import QMzyme as qmz
import inspect








print(inspect.signature(qmz.GenerateModel))





model = qmz.GenerateModel(protein_file='../QMzyme/tests/init_files/1oh0_equ_xstal.pdb')
# information gets printed out after each function call. To turn this off for all calls 
# pass verbose=False to GenerateModel(). Otherwise, you can turn verbose on or off in each of the 
# functions individually.








print(inspect.signature(qmz.GenerateModel.catalytic_center))





model.catalytic_center(sel='resid 263', save_json=False) 
# save_json is false here because an error will pop up if we have 
# the same model object and try to write multiple catalytic centers 
# to its corresponding json file. If you generate a new model object
# in the same directory it will create a new json file and append a
# number identifier to it. 





model.catalytic_center(res_number=263)








model.subsystem(distance_cutoff=5)








model.truncate()








import json


with open(f'{model.protein_prefix}_QMzyme.json') as j:
    model_info = json.load(j)


model_info["Starting structure"]


model_info["Catalytic center"]





model_info["QMzyme 1"]["Subsystem selection"]


model_info["QMzyme 1"]["Truncated subsystem"]



